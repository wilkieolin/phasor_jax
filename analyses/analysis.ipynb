{
 "cells": [
  {
   "cell_type": "code",
   "execution_count": 1,
   "metadata": {},
   "outputs": [],
   "source": [
    "import numpy as np\n",
    "import pandas as pd\n",
    "import pickle as p\n",
    "import plotly.express as px\n",
    "import plotly.graph_objects as go\n",
    "import pandas as pd\n",
    "import os"
   ]
  },
  {
   "cell_type": "code",
   "execution_count": 2,
   "metadata": {},
   "outputs": [],
   "source": [
    "dir = \"../results3\""
   ]
  },
  {
   "cell_type": "code",
   "execution_count": 3,
   "metadata": {},
   "outputs": [],
   "source": [
    "files = os.listdir(dir)"
   ]
  },
  {
   "cell_type": "code",
   "execution_count": 4,
   "metadata": {},
   "outputs": [],
   "source": [
    "architecture = np.array([128, 10])"
   ]
  },
  {
   "cell_type": "code",
   "execution_count": 5,
   "metadata": {},
   "outputs": [],
   "source": [
    "def avg_usage(rates, architecture):\n",
    "    weights = architecture / np.sum(architecture)\n",
    "    avg = np.dot(rates, weights)\n",
    "    return avg"
   ]
  },
  {
   "cell_type": "code",
   "execution_count": 6,
   "metadata": {},
   "outputs": [],
   "source": [
    "avg_fn = lambda x: avg_usage(x, architecture)"
   ]
  },
  {
   "cell_type": "code",
   "execution_count": 7,
   "metadata": {},
   "outputs": [],
   "source": [
    "results = [p.load(open(os.path.join(dir, f), \"rb\")) for f in files]"
   ]
  },
  {
   "cell_type": "code",
   "execution_count": 12,
   "metadata": {},
   "outputs": [
    {
     "data": {
      "text/plain": [
       "False"
      ]
     },
     "execution_count": 12,
     "metadata": {},
     "output_type": "execute_result"
    }
   ],
   "source": [
    "\"random_removal\" in results[0].keys()"
   ]
  },
  {
   "cell_type": "code",
   "execution_count": 14,
   "metadata": {},
   "outputs": [
    {
     "data": {
      "text/plain": [
       "True"
      ]
     },
     "execution_count": 14,
     "metadata": {},
     "output_type": "execute_result"
    }
   ],
   "source": [
    "\"random_removal\" in results[1].keys()"
   ]
  },
  {
   "cell_type": "code",
   "execution_count": 17,
   "metadata": {},
   "outputs": [],
   "source": [
    "def reduce_result(result):\n",
    "    reduced = {}\n",
    "    normal_keys = [\"mask angle\", \"cross inhibit\", \"random_removal\", \"accuracy\"]\n",
    "\n",
    "    for k in normal_keys:\n",
    "        if k in result.keys():\n",
    "            reduced[k] = float(result[k])\n",
    "        else:\n",
    "            reduced[k] = 0.0\n",
    "    \n",
    "    avg_keys = [\"matrix usage\", \"firing rates\"]\n",
    "    for k in avg_keys:\n",
    "        reduced[k] = avg_fn(result[k])\n",
    "\n",
    "    reduced[\"accuracy spiking\"] = float(np.max(result[\"accuracy_spiking\"]))\n",
    "    \n",
    "    return reduced"
   ]
  },
  {
   "cell_type": "code",
   "execution_count": 18,
   "metadata": {},
   "outputs": [
    {
     "data": {
      "text/plain": [
       "{'mask angle': 0.24,\n",
       " 'cross inhibit': 0.0,\n",
       " 'random_removal': 0.0,\n",
       " 'accuracy': 0.7942999601364136,\n",
       " 'matrix usage': 0.4581362632089767,\n",
       " 'firing rates': 0.26537425759035044,\n",
       " 'accuracy spiking': 0.8127999901771545}"
      ]
     },
     "execution_count": 18,
     "metadata": {},
     "output_type": "execute_result"
    }
   ],
   "source": [
    "reduce_result(results[0])"
   ]
  },
  {
   "cell_type": "code",
   "execution_count": 8,
   "metadata": {},
   "outputs": [
    {
     "data": {
      "text/plain": [
       "[{'mask angle': 0.24,\n",
       "  'cross inhibit': 0.0,\n",
       "  'accuracy': DeviceArray(0.79429996, dtype=float32),\n",
       "  'matrix usage': array([0.48740512, 0.08349488], dtype=float32),\n",
       "  'accuracy_spiking': DeviceArray([0.6529    , 0.80249995, 0.8128    , 0.8088    , 0.79789996,\n",
       "               0.7624    , 0.6961    , 0.5857    , 0.4353    , 0.09999999,\n",
       "               0.09999999], dtype=float32),\n",
       "  'firing rates': array([0.27874006, 0.09429193])},\n",
       " {'mask angle': 0.0,\n",
       "  'cross inhibit': 0.0,\n",
       "  'random_removal': 0.1,\n",
       "  'accuracy': DeviceArray(0.85539997, dtype=float32),\n",
       "  'matrix usage': array([1., 1.], dtype=float32),\n",
       "  'accuracy_spiking': DeviceArray([0.6095    , 0.75839996, 0.76669997, 0.76659995, 0.7737    ,\n",
       "               0.7705    , 0.76839995, 0.7601    , 0.7532    , 0.1015    ,\n",
       "               0.09999999], dtype=float32),\n",
       "  'firing rates': array([0.8905958 , 0.84260186])},\n",
       " {'mask angle': 0.0,\n",
       "  'cross inhibit': 0.06,\n",
       "  'accuracy': DeviceArray(0.85539997, dtype=float32),\n",
       "  'matrix usage': array([1., 1.], dtype=float32),\n",
       "  'accuracy_spiking': DeviceArray([0.6015    , 0.7711    , 0.79929996, 0.8136    , 0.81399995,\n",
       "               0.79539996, 0.7547    , 0.6658    , 0.5811    , 0.1651    ,\n",
       "               0.09999999], dtype=float32),\n",
       "  'firing rates': array([0.88114238, 0.88910997])},\n",
       " {'mask angle': 0.01,\n",
       "  'cross inhibit': 0.0,\n",
       "  'accuracy': DeviceArray(0.8555, dtype=float32),\n",
       "  'matrix usage': array([0.97542137, 0.6512954 ], dtype=float32),\n",
       "  'accuracy_spiking': DeviceArray([0.69839996, 0.83849996, 0.85099995, 0.8527    , 0.85179996,\n",
       "               0.8455    , 0.83959997, 0.831     , 0.8221    , 0.102     ,\n",
       "               0.09999999], dtype=float32),\n",
       "  'firing rates': array([0.93753693, 0.66344146])},\n",
       " {'mask angle': 0.05,\n",
       "  'cross inhibit': 0.0,\n",
       "  'accuracy': DeviceArray(0.8551, dtype=float32),\n",
       "  'matrix usage': array([0.87701106, 0.20034613], dtype=float32),\n",
       "  'accuracy_spiking': DeviceArray([0.70449996, 0.8372    , 0.84929997, 0.8526    , 0.8498    ,\n",
       "               0.8445    , 0.8364    , 0.82559997, 0.8181    , 0.09999999,\n",
       "               0.09999999], dtype=float32),\n",
       "  'firing rates': array([0.74398912, 0.22652987])},\n",
       " {'mask angle': 0.0,\n",
       "  'cross inhibit': 0.02,\n",
       "  'accuracy': DeviceArray(0.85539997, dtype=float32),\n",
       "  'matrix usage': array([1., 1.], dtype=float32),\n",
       "  'accuracy_spiking': DeviceArray([0.6793    , 0.8303    , 0.84569997, 0.84929997, 0.8479    ,\n",
       "               0.8423    , 0.82949996, 0.8046    , 0.7611    , 0.1029    ,\n",
       "               0.09999999], dtype=float32),\n",
       "  'firing rates': array([0.97049622, 0.9319462 ])},\n",
       " {'mask angle': 0.0,\n",
       "  'cross inhibit': 0.08,\n",
       "  'accuracy': DeviceArray(0.85539997, dtype=float32),\n",
       "  'matrix usage': array([1., 1.], dtype=float32),\n",
       "  'accuracy_spiking': DeviceArray([0.5697    , 0.7599    , 0.8049    , 0.81909996, 0.82      ,\n",
       "               0.80259997, 0.7599    , 0.64199996, 0.5969    , 0.22749999,\n",
       "               0.09999999], dtype=float32),\n",
       "  'firing rates': array([0.84139574, 0.81890724])},\n",
       " {'mask angle': 0.0,\n",
       "  'cross inhibit': 0.0,\n",
       "  'random_removal': 0.5,\n",
       "  'accuracy': DeviceArray(0.85539997, dtype=float32),\n",
       "  'matrix usage': array([1., 1.], dtype=float32),\n",
       "  'accuracy_spiking': DeviceArray([0.2862    , 0.4039    , 0.43179998, 0.44      , 0.4533    ,\n",
       "               0.4371    , 0.4477    , 0.4569    , 0.44439998, 0.1016    ,\n",
       "               0.09999999], dtype=float32),\n",
       "  'firing rates': array([0.49454477, 0.46871539])},\n",
       " {'mask angle': 0.15,\n",
       "  'cross inhibit': 0.0,\n",
       "  'accuracy': DeviceArray(0.84739995, dtype=float32),\n",
       "  'matrix usage': array([0.65234375, 0.10671478], dtype=float32),\n",
       "  'accuracy_spiking': DeviceArray([0.7083    , 0.8272    , 0.8409    , 0.84129995, 0.8361    ,\n",
       "               0.8286    , 0.8092    , 0.7633    , 0.6673    , 0.09999999,\n",
       "               0.09999999], dtype=float32),\n",
       "  'firing rates': array([0.42179341, 0.11462025])},\n",
       " {'mask angle': 0.11,\n",
       "  'cross inhibit': 0.0,\n",
       "  'accuracy': DeviceArray(0.85359997, dtype=float32),\n",
       "  'matrix usage': array([0.7381321 , 0.12240901], dtype=float32),\n",
       "  'accuracy_spiking': DeviceArray([0.7105    , 0.8314    , 0.84129995, 0.8438    , 0.8416    ,\n",
       "               0.8359    , 0.8249    , 0.80719995, 0.7676    , 0.09999999,\n",
       "               0.09999999], dtype=float32),\n",
       "  'firing rates': array([0.52492799, 0.13368078])},\n",
       " {'mask angle': 0.08,\n",
       "  'cross inhibit': 0.0,\n",
       "  'accuracy': DeviceArray(0.8551, dtype=float32),\n",
       "  'matrix usage': array([0.8059561 , 0.14526308], dtype=float32),\n",
       "  'accuracy_spiking': DeviceArray([0.70809996, 0.8354    , 0.8483    , 0.8487    , 0.84749997,\n",
       "               0.84029996, 0.8328    , 0.8226    , 0.81189996, 0.09999999,\n",
       "               0.09999999], dtype=float32),\n",
       "  'firing rates': array([0.65209567, 0.17573279])},\n",
       " {'mask angle': 0.0,\n",
       "  'cross inhibit': 0.0,\n",
       "  'random_removal': 0.2,\n",
       "  'accuracy': DeviceArray(0.85539997, dtype=float32),\n",
       "  'matrix usage': array([1., 1.], dtype=float32),\n",
       "  'accuracy_spiking': DeviceArray([0.5358    , 0.6637    , 0.6821    , 0.68689996, 0.6882    ,\n",
       "               0.68509996, 0.69119996, 0.6806    , 0.67149997, 0.1011    ,\n",
       "               0.09999999], dtype=float32),\n",
       "  'firing rates': array([0.79172541, 0.74897152])},\n",
       " {'mask angle': 0.02,\n",
       "  'cross inhibit': 0.0,\n",
       "  'accuracy': DeviceArray(0.85539997, dtype=float32),\n",
       "  'matrix usage': array([0.95069593, 0.4264637 ], dtype=float32),\n",
       "  'accuracy_spiking': DeviceArray([0.69839996, 0.83849996, 0.8506    , 0.85389996, 0.8524    ,\n",
       "               0.8462    , 0.8401    , 0.82809997, 0.82049996, 0.09999999,\n",
       "               0.09999999], dtype=float32),\n",
       "  'firing rates': array([0.85276072, 0.42214597])},\n",
       " {'mask angle': 0.0,\n",
       "  'cross inhibit': 0.05,\n",
       "  'accuracy': DeviceArray(0.85539997, dtype=float32),\n",
       "  'matrix usage': array([1., 1.], dtype=float32),\n",
       "  'accuracy_spiking': DeviceArray([0.6015    , 0.77489996, 0.8027    , 0.8161    , 0.8154    ,\n",
       "               0.7991    , 0.7603    , 0.6665    , 0.5834    , 0.1533    ,\n",
       "               0.09999999], dtype=float32),\n",
       "  'firing rates': array([0.88905671, 0.89799051])},\n",
       " {'mask angle': 0.0,\n",
       "  'cross inhibit': 0.0,\n",
       "  'random_removal': 0.25,\n",
       "  'accuracy': DeviceArray(0.85539997, dtype=float32),\n",
       "  'matrix usage': array([1., 1.], dtype=float32),\n",
       "  'accuracy_spiking': DeviceArray([0.4906    , 0.6157    , 0.6419    , 0.6493    , 0.65569997,\n",
       "               0.63989997, 0.6443    , 0.6357    , 0.63339996, 0.1014    ,\n",
       "               0.09999999], dtype=float32),\n",
       "  'firing rates': array([0.74226499, 0.70214201])},\n",
       " {'mask angle': 0.23,\n",
       "  'cross inhibit': 0.0,\n",
       "  'accuracy': DeviceArray(0.806, dtype=float32),\n",
       "  'matrix usage': array([0.50346124, 0.08579905], dtype=float32),\n",
       "  'accuracy_spiking': DeviceArray([0.6623    , 0.8068    , 0.8149    , 0.8111    , 0.8006    ,\n",
       "               0.76379997, 0.6964    , 0.5864    , 0.43089998, 0.09999999,\n",
       "               0.09999999], dtype=float32),\n",
       "  'firing rates': array([0.28387088, 0.09535403])},\n",
       " {'mask angle': 0.0,\n",
       "  'cross inhibit': 0.01,\n",
       "  'accuracy': DeviceArray(0.85539997, dtype=float32),\n",
       "  'matrix usage': array([1., 1.], dtype=float32),\n",
       "  'accuracy_spiking': DeviceArray([0.6793    , 0.8301    , 0.8458    , 0.84929997, 0.8479    ,\n",
       "               0.8423    , 0.82949996, 0.8046    , 0.761     , 0.1029    ,\n",
       "               0.09999999], dtype=float32),\n",
       "  'firing rates': array([0.97051144, 0.93193829])},\n",
       " {'mask angle': 0.06,\n",
       "  'cross inhibit': 0.0,\n",
       "  'accuracy': DeviceArray(0.85459995, dtype=float32),\n",
       "  'matrix usage': array([0.8530065, 0.174733 ], dtype=float32),\n",
       "  'accuracy_spiking': DeviceArray([0.70449996, 0.8372    , 0.84819996, 0.85099995, 0.849     ,\n",
       "               0.8441    , 0.8347    , 0.8233    , 0.8143    , 0.09999999,\n",
       "               0.09999999], dtype=float32),\n",
       "  'firing rates': array([0.71189011, 0.21679589])},\n",
       " {'mask angle': 0.16,\n",
       "  'cross inhibit': 0.0,\n",
       "  'accuracy': DeviceArray(0.8455, dtype=float32),\n",
       "  'matrix usage': array([0.63226396, 0.10357   ], dtype=float32),\n",
       "  'accuracy_spiking': DeviceArray([0.7082    , 0.8289    , 0.8398    , 0.8408    , 0.8361    ,\n",
       "               0.8279    , 0.8088    , 0.76339996, 0.66789997, 0.09999999,\n",
       "               0.09999999], dtype=float32),\n",
       "  'firing rates': array([0.42008899, 0.11496341])},\n",
       " {'mask angle': 0.18,\n",
       "  'cross inhibit': 0.0,\n",
       "  'accuracy': DeviceArray(0.83849996, dtype=float32),\n",
       "  'matrix usage': array([0.5926892 , 0.09791335], dtype=float32),\n",
       "  'accuracy_spiking': DeviceArray([0.7003    , 0.81949997, 0.83129996, 0.83159995, 0.8262    ,\n",
       "               0.8091    , 0.7671    , 0.69089997, 0.5367    , 0.09999999,\n",
       "               0.09999999], dtype=float32),\n",
       "  'firing rates': array([0.34594804, 0.10422567])},\n",
       " {'mask angle': 0.12,\n",
       "  'cross inhibit': 0.0,\n",
       "  'accuracy': DeviceArray(0.8526, dtype=float32),\n",
       "  'matrix usage': array([0.71613556, 0.1178006 ], dtype=float32),\n",
       "  'accuracy_spiking': DeviceArray([0.714     , 0.8329    , 0.8419    , 0.84419996, 0.84169996,\n",
       "               0.8354    , 0.8262    , 0.8063    , 0.7694    , 0.09999999,\n",
       "               0.09999999], dtype=float32),\n",
       "  'firing rates': array([0.51245225, 0.13552314])},\n",
       " {'mask angle': 0.0,\n",
       "  'cross inhibit': 0.0,\n",
       "  'random_removal': 0.35,\n",
       "  'accuracy': DeviceArray(0.85539997, dtype=float32),\n",
       "  'matrix usage': array([1., 1.], dtype=float32),\n",
       "  'accuracy_spiking': DeviceArray([0.4062    , 0.534     , 0.5548    , 0.5654    , 0.561     ,\n",
       "               0.56869996, 0.57629997, 0.5663    , 0.5577    , 0.1013    ,\n",
       "               0.09999999], dtype=float32),\n",
       "  'firing rates': array([0.64330676, 0.60895273])},\n",
       " {'mask angle': 0.0,\n",
       "  'cross inhibit': 0.04,\n",
       "  'accuracy': DeviceArray(0.85539997, dtype=float32),\n",
       "  'matrix usage': array([1., 1.], dtype=float32),\n",
       "  'accuracy_spiking': DeviceArray([0.6374    , 0.7967    , 0.8279    , 0.8375    , 0.83339995,\n",
       "               0.82199997, 0.7916    , 0.73359996, 0.6554    , 0.1131    ,\n",
       "               0.09999999], dtype=float32),\n",
       "  'firing rates': array([0.93089097, 0.92354727])},\n",
       " {'mask angle': 0.03,\n",
       "  'cross inhibit': 0.0,\n",
       "  'accuracy': DeviceArray(0.8551, dtype=float32),\n",
       "  'matrix usage': array([0.925979  , 0.30710042], dtype=float32),\n",
       "  'accuracy_spiking': DeviceArray([0.69879997, 0.83879995, 0.85109997, 0.85389996, 0.8515    ,\n",
       "               0.8469    , 0.83919996, 0.82799995, 0.82019997, 0.09999999,\n",
       "               0.09999999], dtype=float32),\n",
       "  'firing rates': array([0.83663508, 0.34643196])},\n",
       " {'mask angle': 0.0,\n",
       "  'cross inhibit': 0.0,\n",
       "  'random_removal': 0.3,\n",
       "  'accuracy': DeviceArray(0.85539997, dtype=float32),\n",
       "  'matrix usage': array([1., 1.], dtype=float32),\n",
       "  'accuracy_spiking': DeviceArray([0.44849998, 0.5807    , 0.59779996, 0.6076    , 0.60749996,\n",
       "               0.604     , 0.6078    , 0.59599996, 0.5981    , 0.1011    ,\n",
       "               0.09999999], dtype=float32),\n",
       "  'firing rates': array([0.69275775, 0.65576642])},\n",
       " {'mask angle': 0.1,\n",
       "  'cross inhibit': 0.0,\n",
       "  'accuracy': DeviceArray(0.8551, dtype=float32),\n",
       "  'matrix usage': array([0.7603296 , 0.12853047], dtype=float32),\n",
       "  'accuracy_spiking': DeviceArray([0.7136    , 0.8311    , 0.8436    , 0.84459996, 0.8427    ,\n",
       "               0.8366    , 0.82479995, 0.8147    , 0.7978    , 0.09999999,\n",
       "               0.09999999], dtype=float32),\n",
       "  'firing rates': array([0.54672527, 0.14295886])},\n",
       " {'mask angle': 0.09,\n",
       "  'cross inhibit': 0.0,\n",
       "  'accuracy': DeviceArray(0.8551, dtype=float32),\n",
       "  'matrix usage': array([0.7829188, 0.1362935], dtype=float32),\n",
       "  'accuracy_spiking': DeviceArray([0.71239996, 0.8347    , 0.84459996, 0.8469    , 0.8445    ,\n",
       "               0.8391    , 0.82979995, 0.8146    , 0.798     , 0.09999999,\n",
       "               0.09999999], dtype=float32),\n",
       "  'firing rates': array([0.58841066, 0.14999011])},\n",
       " {'mask angle': 0.0,\n",
       "  'cross inhibit': 0.0,\n",
       "  'random_removal': 0.45,\n",
       "  'accuracy': DeviceArray(0.85539997, dtype=float32),\n",
       "  'matrix usage': array([1., 1.], dtype=float32),\n",
       "  'accuracy_spiking': DeviceArray([0.3236    , 0.44959998, 0.4732    , 0.4786    , 0.48589998,\n",
       "               0.4827    , 0.4944    , 0.48279998, 0.4802    , 0.1012    ,\n",
       "               0.09999999], dtype=float32),\n",
       "  'firing rates': array([0.54435927, 0.51586234])},\n",
       " {'mask angle': 0.22,\n",
       "  'cross inhibit': 0.0,\n",
       "  'accuracy': DeviceArray(0.81219995, dtype=float32),\n",
       "  'matrix usage': array([0.5202011 , 0.08811314], dtype=float32),\n",
       "  'accuracy_spiking': DeviceArray([0.6732    , 0.807     , 0.8152    , 0.8211    , 0.811     ,\n",
       "               0.79029995, 0.733     , 0.5862    , 0.433     , 0.09999999,\n",
       "               0.09999999], dtype=float32),\n",
       "  'firing rates': array([0.29545188, 0.09840684])},\n",
       " {'mask angle': 0.0,\n",
       "  'cross inhibit': 0.0,\n",
       "  'random_removal': 0.05,\n",
       "  'accuracy': DeviceArray(0.85539997, dtype=float32),\n",
       "  'matrix usage': array([1., 1.], dtype=float32),\n",
       "  'accuracy_spiking': DeviceArray([0.66029996, 0.7966    , 0.80939996, 0.81259996, 0.81      ,\n",
       "               0.8104    , 0.8032    , 0.7934    , 0.7876    , 0.1014    ,\n",
       "               0.09999999], dtype=float32),\n",
       "  'firing rates': array([0.94010157, 0.88936017])},\n",
       " {'mask angle': 0.07,\n",
       "  'cross inhibit': 0.0,\n",
       "  'accuracy': DeviceArray(0.8549, dtype=float32),\n",
       "  'matrix usage': array([0.8293133 , 0.15808941], dtype=float32),\n",
       "  'accuracy_spiking': DeviceArray([0.70809996, 0.8354    , 0.8483    , 0.8487    , 0.84749997,\n",
       "               0.84029996, 0.8328    , 0.8226    , 0.8113    , 0.09999999,\n",
       "               0.09999999], dtype=float32),\n",
       "  'firing rates': array([0.66121563, 0.17690368])},\n",
       " {'mask angle': 0.0,\n",
       "  'cross inhibit': 0.0,\n",
       "  'random_removal': 0.15,\n",
       "  'accuracy': DeviceArray(0.85539997, dtype=float32),\n",
       "  'matrix usage': array([1., 1.], dtype=float32),\n",
       "  'accuracy_spiking': DeviceArray([0.5801    , 0.71529996, 0.72969997, 0.73139995, 0.7344    ,\n",
       "               0.73399997, 0.73139995, 0.717     , 0.71059996, 0.10179999,\n",
       "               0.09999999], dtype=float32),\n",
       "  'firing rates': array([0.8410558 , 0.79581982])},\n",
       " {'mask angle': 0.17,\n",
       "  'cross inhibit': 0.0,\n",
       "  'accuracy': DeviceArray(0.8412, dtype=float32),\n",
       "  'matrix usage': array([0.61220425, 0.10074168], dtype=float32),\n",
       "  'accuracy_spiking': DeviceArray([0.6985    , 0.8236    , 0.83739996, 0.83629996, 0.83239996,\n",
       "               0.8203    , 0.7917    , 0.7319    , 0.606     , 0.09999999,\n",
       "               0.09999999], dtype=float32),\n",
       "  'firing rates': array([0.38003424, 0.10828817])},\n",
       " {'mask angle': 0.13,\n",
       "  'cross inhibit': 0.0,\n",
       "  'accuracy': DeviceArray(0.8512, dtype=float32),\n",
       "  'matrix usage': array([0.69455457, 0.11370648], dtype=float32),\n",
       "  'accuracy_spiking': DeviceArray([0.7126    , 0.82989997, 0.84139997, 0.8425    , 0.8404    ,\n",
       "               0.8319    , 0.82      , 0.78749996, 0.7213    , 0.09999999,\n",
       "               0.09999999], dtype=float32),\n",
       "  'firing rates': array([0.46979362, 0.12228145])},\n",
       " {'mask angle': 0.19,\n",
       "  'cross inhibit': 0.0,\n",
       "  'accuracy': DeviceArray(0.83239996, dtype=float32),\n",
       "  'matrix usage': array([0.5736424 , 0.09561906], dtype=float32),\n",
       "  'accuracy_spiking': DeviceArray([0.6936    , 0.821     , 0.8318    , 0.83159995, 0.8264    ,\n",
       "               0.8089    , 0.76699996, 0.69089997, 0.5369    , 0.09999999,\n",
       "               0.09999999], dtype=float32),\n",
       "  'firing rates': array([0.34366061, 0.1032496 ])},\n",
       " {'mask angle': 0.0,\n",
       "  'cross inhibit': 0.0,\n",
       "  'random_removal': 0.0,\n",
       "  'accuracy': DeviceArray(0.85539997, dtype=float32),\n",
       "  'matrix usage': array([1., 1.], dtype=float32),\n",
       "  'accuracy_spiking': DeviceArray([0.696     , 0.8366    , 0.8515    , 0.8531    , 0.8513    ,\n",
       "               0.8469    , 0.83879995, 0.8311    , 0.82269996, 0.1019    ,\n",
       "               0.09999999], dtype=float32),\n",
       "  'firing rates': array([0.9895266 , 0.93626681])},\n",
       " {'mask angle': 0.0,\n",
       "  'cross inhibit': 0.0,\n",
       "  'random_removal': 0.55,\n",
       "  'accuracy': DeviceArray(0.85539997, dtype=float32),\n",
       "  'matrix usage': array([1., 1.], dtype=float32),\n",
       "  'accuracy_spiking': DeviceArray([0.2474    , 0.36859998, 0.3881    , 0.39609998, 0.39609998,\n",
       "               0.40539998, 0.4073    , 0.40719998, 0.3926    , 0.1021    ,\n",
       "               0.09999999], dtype=float32),\n",
       "  'firing rates': array([0.44517606, 0.42233386])},\n",
       " {'mask angle': 0.25,\n",
       "  'cross inhibit': 0.0,\n",
       "  'accuracy': DeviceArray(0.783, dtype=float32),\n",
       "  'matrix usage': array([0.4721077 , 0.08122033], dtype=float32),\n",
       "  'accuracy_spiking': DeviceArray([0.639     , 0.7917    , 0.7973    , 0.7941    , 0.77669996,\n",
       "               0.7346    , 0.6627    , 0.5512    , 0.39609998, 0.09999999,\n",
       "               0.09999999], dtype=float32),\n",
       "  'firing rates': array([0.25935136, 0.08932753])},\n",
       " {'mask angle': 0.0,\n",
       "  'cross inhibit': 0.07,\n",
       "  'accuracy': DeviceArray(0.85539997, dtype=float32),\n",
       "  'matrix usage': array([1., 1.], dtype=float32),\n",
       "  'accuracy_spiking': DeviceArray([0.5697    , 0.74869996, 0.80759996, 0.8204    , 0.8206    ,\n",
       "               0.8035    , 0.7596    , 0.6394    , 0.597     , 0.22379999,\n",
       "               0.09999999], dtype=float32),\n",
       "  'firing rates': array([0.84303403, 0.82500396])},\n",
       " {'mask angle': 0.2,\n",
       "  'cross inhibit': 0.0,\n",
       "  'accuracy': DeviceArray(0.82519996, dtype=float32),\n",
       "  'matrix usage': array([0.55533415, 0.09287976], dtype=float32),\n",
       "  'accuracy_spiking': DeviceArray([0.68979996, 0.82009995, 0.8305    , 0.826     , 0.8251    ,\n",
       "               0.8085    , 0.77059996, 0.6411    , 0.4799    , 0.09999999,\n",
       "               0.09999999], dtype=float32),\n",
       "  'firing rates': array([0.32946291, 0.10343058])},\n",
       " {'mask angle': 0.0,\n",
       "  'cross inhibit': 0.0,\n",
       "  'random_removal': 0.4,\n",
       "  'accuracy': DeviceArray(0.85539997, dtype=float32),\n",
       "  'matrix usage': array([1., 1.], dtype=float32),\n",
       "  'accuracy_spiking': DeviceArray([0.36609998, 0.4983    , 0.51699996, 0.52309996, 0.5259    ,\n",
       "               0.5254    , 0.52779996, 0.52169997, 0.5226    , 0.101     ,\n",
       "               0.09999999], dtype=float32),\n",
       "  'firing rates': array([0.59363604, 0.56224782])},\n",
       " {'mask angle': 0.0,\n",
       "  'cross inhibit': 0.09,\n",
       "  'accuracy': DeviceArray(0.85539997, dtype=float32),\n",
       "  'matrix usage': array([1., 1.], dtype=float32),\n",
       "  'accuracy_spiking': DeviceArray([0.56909996, 0.746     , 0.7909    , 0.80539995, 0.8032    ,\n",
       "               0.7809    , 0.7302    , 0.69      , 0.6077    , 0.2996    ,\n",
       "               0.09999999], dtype=float32),\n",
       "  'firing rates': array([0.79288631, 0.61754747])},\n",
       " {'mask angle': 0.0,\n",
       "  'cross inhibit': 0.03,\n",
       "  'accuracy': DeviceArray(0.85539997, dtype=float32),\n",
       "  'matrix usage': array([1., 1.], dtype=float32),\n",
       "  'accuracy_spiking': DeviceArray([0.6374    , 0.7989    , 0.82809997, 0.838     , 0.83379996,\n",
       "               0.8224    , 0.792     , 0.7331    , 0.6544    , 0.1129    ,\n",
       "               0.09999999], dtype=float32),\n",
       "  'firing rates': array([0.93126831, 0.92326938])},\n",
       " {'mask angle': 0.04,\n",
       "  'cross inhibit': 0.0,\n",
       "  'accuracy': DeviceArray(0.8556, dtype=float32),\n",
       "  'matrix usage': array([0.90144134, 0.2405063 ], dtype=float32),\n",
       "  'accuracy_spiking': DeviceArray([0.69879997, 0.83879995, 0.85109997, 0.85389996, 0.8519    ,\n",
       "               0.84669995, 0.8373    , 0.82549995, 0.81939995, 0.09999999,\n",
       "               0.09999999], dtype=float32),\n",
       "  'firing rates': array([0.78521419, 0.3182407 ])},\n",
       " {'mask angle': 0.21,\n",
       "  'cross inhibit': 0.0,\n",
       "  'accuracy': DeviceArray(0.8192, dtype=float32),\n",
       "  'matrix usage': array([0.5374532 , 0.09033824], dtype=float32),\n",
       "  'accuracy_spiking': DeviceArray([0.6813    , 0.8154    , 0.825     , 0.8249    , 0.8143    ,\n",
       "               0.7933    , 0.73649997, 0.638     , 0.478     , 0.09999999,\n",
       "               0.09999999], dtype=float32),\n",
       "  'firing rates': array([0.31183958, 0.09910601])},\n",
       " {'mask angle': 0.14,\n",
       "  'cross inhibit': 0.0,\n",
       "  'accuracy': DeviceArray(0.84929997, dtype=float32),\n",
       "  'matrix usage': array([0.6733097 , 0.11009691], dtype=float32),\n",
       "  'accuracy_spiking': DeviceArray([0.7129    , 0.82699996, 0.8427    , 0.8426    , 0.8387    ,\n",
       "               0.83239996, 0.81769997, 0.7872    , 0.7211    , 0.09999999,\n",
       "               0.09999999], dtype=float32),\n",
       "  'firing rates': array([0.46165949, 0.12259691])},\n",
       " {'mask angle': 0.0,\n",
       "  'cross inhibit': 0.1,\n",
       "  'accuracy': DeviceArray(0.85539997, dtype=float32),\n",
       "  'matrix usage': array([1., 1.], dtype=float32),\n",
       "  'accuracy_spiking': DeviceArray([0.5731    , 0.7363    , 0.7851    , 0.801     , 0.80149996,\n",
       "               0.7802    , 0.7298    , 0.6742    , 0.5847    , 0.3037    ,\n",
       "               0.09999999], dtype=float32),\n",
       "  'firing rates': array([0.7900848 , 0.62731013])}]"
      ]
     },
     "execution_count": 8,
     "metadata": {},
     "output_type": "execute_result"
    }
   ],
   "source": [
    "results"
   ]
  },
  {
   "cell_type": "code",
   "execution_count": 10,
   "metadata": {},
   "outputs": [],
   "source": [
    "all_accuracy = np.array([r['accuracy'] for r in results])"
   ]
  },
  {
   "cell_type": "code",
   "execution_count": 11,
   "metadata": {},
   "outputs": [],
   "source": [
    "matrix_usage = np.stack([avg_fn(r['matrix usage']) for r in results])"
   ]
  },
  {
   "cell_type": "code",
   "execution_count": 12,
   "metadata": {},
   "outputs": [],
   "source": [
    "all_accuracy_spk = np.stack([r['accuracy_spiking'] for r in results])"
   ]
  },
  {
   "cell_type": "code",
   "execution_count": 13,
   "metadata": {},
   "outputs": [],
   "source": [
    "firing_rates = np.stack([avg_fn(r['firing rates']) for r in results])"
   ]
  },
  {
   "cell_type": "code",
   "execution_count": 14,
   "metadata": {},
   "outputs": [
    {
     "data": {
      "application/vnd.plotly.v1+json": {
       "config": {
        "plotlyServerURL": "https://plot.ly"
       },
       "data": [
        {
         "name": "Non-Spiking Accuracy",
         "type": "scatter",
         "x": [
          0,
          0.031415926535897934,
          0.06283185307179587,
          0.09424777960769379,
          0.12566370614359174,
          0.15707963267948966,
          0.18849555921538758,
          0.21991148575128555,
          0.25132741228718347,
          0.2827433388230814,
          0.3141592653589793,
          0.34557519189487723,
          0.37699111843077515,
          0.4084070449666731,
          0.4398229715025711,
          0.47123889803846897,
          0.5026548245743669,
          0.5340707511102649,
          0.5654866776461628,
          0.5969026041820606,
          0.6283185307179586,
          0.6597344572538565,
          0.6911503837897545,
          0.7225663103256524,
          0.7539822368615503,
          0.7853981633974483
         ],
         "y": [
          0.8508999943733215,
          0.8508999943733215,
          0.8503999710083008,
          0.848800003528595,
          0.848800003528595,
          0.849399983882904,
          0.8477999567985535,
          0.8455999493598938,
          0.8450999855995178,
          0.8435999751091003,
          0.8434000015258789,
          0.8394999504089355,
          0.8398999571800232,
          0.8398999571800232,
          0.837399959564209,
          0.835599958896637,
          0.8348000049591064,
          0.8343999981880188,
          0.8317999839782715,
          0.8274999856948853,
          0.8233000040054321,
          0.8185999989509583,
          0.8122999668121338,
          0.8079999685287476,
          0.7999999523162842,
          0.7897999882698059
         ]
        },
        {
         "name": "Spiking Accuracy",
         "type": "scatter",
         "x": [
          0,
          0.031415926535897934,
          0.06283185307179587,
          0.09424777960769379,
          0.12566370614359174,
          0.15707963267948966,
          0.18849555921538758,
          0.21991148575128555,
          0.25132741228718347,
          0.2827433388230814,
          0.3141592653589793,
          0.34557519189487723,
          0.37699111843077515,
          0.4084070449666731,
          0.4398229715025711,
          0.47123889803846897,
          0.5026548245743669,
          0.5340707511102649,
          0.5654866776461628,
          0.5969026041820606,
          0.6283185307179586,
          0.6597344572538565,
          0.6911503837897545,
          0.7225663103256524,
          0.7539822368615503,
          0.7853981633974483
         ],
         "y": [
          0.8484999537467957,
          0.8497999906539917,
          0.8495999574661255,
          0.848800003528595,
          0.848800003528595,
          0.8485999703407288,
          0.8479999899864197,
          0.8468999862670898,
          0.8468999862670898,
          0.8447999954223633,
          0.8417999744415283,
          0.8416999578475952,
          0.8409000039100647,
          0.8416000008583069,
          0.8399999737739563,
          0.8396999835968018,
          0.8391000032424927,
          0.8366000056266785,
          0.8296999931335449,
          0.8294000029563904,
          0.821899950504303,
          0.8204999566078186,
          0.8155999779701233,
          0.8053999543190002,
          0.804099977016449,
          0.7828999757766724
         ]
        }
       ],
       "layout": {
        "template": {
         "data": {
          "bar": [
           {
            "error_x": {
             "color": "#2a3f5f"
            },
            "error_y": {
             "color": "#2a3f5f"
            },
            "marker": {
             "line": {
              "color": "#E5ECF6",
              "width": 0.5
             },
             "pattern": {
              "fillmode": "overlay",
              "size": 10,
              "solidity": 0.2
             }
            },
            "type": "bar"
           }
          ],
          "barpolar": [
           {
            "marker": {
             "line": {
              "color": "#E5ECF6",
              "width": 0.5
             },
             "pattern": {
              "fillmode": "overlay",
              "size": 10,
              "solidity": 0.2
             }
            },
            "type": "barpolar"
           }
          ],
          "carpet": [
           {
            "aaxis": {
             "endlinecolor": "#2a3f5f",
             "gridcolor": "white",
             "linecolor": "white",
             "minorgridcolor": "white",
             "startlinecolor": "#2a3f5f"
            },
            "baxis": {
             "endlinecolor": "#2a3f5f",
             "gridcolor": "white",
             "linecolor": "white",
             "minorgridcolor": "white",
             "startlinecolor": "#2a3f5f"
            },
            "type": "carpet"
           }
          ],
          "choropleth": [
           {
            "colorbar": {
             "outlinewidth": 0,
             "ticks": ""
            },
            "type": "choropleth"
           }
          ],
          "contour": [
           {
            "colorbar": {
             "outlinewidth": 0,
             "ticks": ""
            },
            "colorscale": [
             [
              0,
              "#0d0887"
             ],
             [
              0.1111111111111111,
              "#46039f"
             ],
             [
              0.2222222222222222,
              "#7201a8"
             ],
             [
              0.3333333333333333,
              "#9c179e"
             ],
             [
              0.4444444444444444,
              "#bd3786"
             ],
             [
              0.5555555555555556,
              "#d8576b"
             ],
             [
              0.6666666666666666,
              "#ed7953"
             ],
             [
              0.7777777777777778,
              "#fb9f3a"
             ],
             [
              0.8888888888888888,
              "#fdca26"
             ],
             [
              1,
              "#f0f921"
             ]
            ],
            "type": "contour"
           }
          ],
          "contourcarpet": [
           {
            "colorbar": {
             "outlinewidth": 0,
             "ticks": ""
            },
            "type": "contourcarpet"
           }
          ],
          "heatmap": [
           {
            "colorbar": {
             "outlinewidth": 0,
             "ticks": ""
            },
            "colorscale": [
             [
              0,
              "#0d0887"
             ],
             [
              0.1111111111111111,
              "#46039f"
             ],
             [
              0.2222222222222222,
              "#7201a8"
             ],
             [
              0.3333333333333333,
              "#9c179e"
             ],
             [
              0.4444444444444444,
              "#bd3786"
             ],
             [
              0.5555555555555556,
              "#d8576b"
             ],
             [
              0.6666666666666666,
              "#ed7953"
             ],
             [
              0.7777777777777778,
              "#fb9f3a"
             ],
             [
              0.8888888888888888,
              "#fdca26"
             ],
             [
              1,
              "#f0f921"
             ]
            ],
            "type": "heatmap"
           }
          ],
          "heatmapgl": [
           {
            "colorbar": {
             "outlinewidth": 0,
             "ticks": ""
            },
            "colorscale": [
             [
              0,
              "#0d0887"
             ],
             [
              0.1111111111111111,
              "#46039f"
             ],
             [
              0.2222222222222222,
              "#7201a8"
             ],
             [
              0.3333333333333333,
              "#9c179e"
             ],
             [
              0.4444444444444444,
              "#bd3786"
             ],
             [
              0.5555555555555556,
              "#d8576b"
             ],
             [
              0.6666666666666666,
              "#ed7953"
             ],
             [
              0.7777777777777778,
              "#fb9f3a"
             ],
             [
              0.8888888888888888,
              "#fdca26"
             ],
             [
              1,
              "#f0f921"
             ]
            ],
            "type": "heatmapgl"
           }
          ],
          "histogram": [
           {
            "marker": {
             "pattern": {
              "fillmode": "overlay",
              "size": 10,
              "solidity": 0.2
             }
            },
            "type": "histogram"
           }
          ],
          "histogram2d": [
           {
            "colorbar": {
             "outlinewidth": 0,
             "ticks": ""
            },
            "colorscale": [
             [
              0,
              "#0d0887"
             ],
             [
              0.1111111111111111,
              "#46039f"
             ],
             [
              0.2222222222222222,
              "#7201a8"
             ],
             [
              0.3333333333333333,
              "#9c179e"
             ],
             [
              0.4444444444444444,
              "#bd3786"
             ],
             [
              0.5555555555555556,
              "#d8576b"
             ],
             [
              0.6666666666666666,
              "#ed7953"
             ],
             [
              0.7777777777777778,
              "#fb9f3a"
             ],
             [
              0.8888888888888888,
              "#fdca26"
             ],
             [
              1,
              "#f0f921"
             ]
            ],
            "type": "histogram2d"
           }
          ],
          "histogram2dcontour": [
           {
            "colorbar": {
             "outlinewidth": 0,
             "ticks": ""
            },
            "colorscale": [
             [
              0,
              "#0d0887"
             ],
             [
              0.1111111111111111,
              "#46039f"
             ],
             [
              0.2222222222222222,
              "#7201a8"
             ],
             [
              0.3333333333333333,
              "#9c179e"
             ],
             [
              0.4444444444444444,
              "#bd3786"
             ],
             [
              0.5555555555555556,
              "#d8576b"
             ],
             [
              0.6666666666666666,
              "#ed7953"
             ],
             [
              0.7777777777777778,
              "#fb9f3a"
             ],
             [
              0.8888888888888888,
              "#fdca26"
             ],
             [
              1,
              "#f0f921"
             ]
            ],
            "type": "histogram2dcontour"
           }
          ],
          "mesh3d": [
           {
            "colorbar": {
             "outlinewidth": 0,
             "ticks": ""
            },
            "type": "mesh3d"
           }
          ],
          "parcoords": [
           {
            "line": {
             "colorbar": {
              "outlinewidth": 0,
              "ticks": ""
             }
            },
            "type": "parcoords"
           }
          ],
          "pie": [
           {
            "automargin": true,
            "type": "pie"
           }
          ],
          "scatter": [
           {
            "fillpattern": {
             "fillmode": "overlay",
             "size": 10,
             "solidity": 0.2
            },
            "type": "scatter"
           }
          ],
          "scatter3d": [
           {
            "line": {
             "colorbar": {
              "outlinewidth": 0,
              "ticks": ""
             }
            },
            "marker": {
             "colorbar": {
              "outlinewidth": 0,
              "ticks": ""
             }
            },
            "type": "scatter3d"
           }
          ],
          "scattercarpet": [
           {
            "marker": {
             "colorbar": {
              "outlinewidth": 0,
              "ticks": ""
             }
            },
            "type": "scattercarpet"
           }
          ],
          "scattergeo": [
           {
            "marker": {
             "colorbar": {
              "outlinewidth": 0,
              "ticks": ""
             }
            },
            "type": "scattergeo"
           }
          ],
          "scattergl": [
           {
            "marker": {
             "colorbar": {
              "outlinewidth": 0,
              "ticks": ""
             }
            },
            "type": "scattergl"
           }
          ],
          "scattermapbox": [
           {
            "marker": {
             "colorbar": {
              "outlinewidth": 0,
              "ticks": ""
             }
            },
            "type": "scattermapbox"
           }
          ],
          "scatterpolar": [
           {
            "marker": {
             "colorbar": {
              "outlinewidth": 0,
              "ticks": ""
             }
            },
            "type": "scatterpolar"
           }
          ],
          "scatterpolargl": [
           {
            "marker": {
             "colorbar": {
              "outlinewidth": 0,
              "ticks": ""
             }
            },
            "type": "scatterpolargl"
           }
          ],
          "scatterternary": [
           {
            "marker": {
             "colorbar": {
              "outlinewidth": 0,
              "ticks": ""
             }
            },
            "type": "scatterternary"
           }
          ],
          "surface": [
           {
            "colorbar": {
             "outlinewidth": 0,
             "ticks": ""
            },
            "colorscale": [
             [
              0,
              "#0d0887"
             ],
             [
              0.1111111111111111,
              "#46039f"
             ],
             [
              0.2222222222222222,
              "#7201a8"
             ],
             [
              0.3333333333333333,
              "#9c179e"
             ],
             [
              0.4444444444444444,
              "#bd3786"
             ],
             [
              0.5555555555555556,
              "#d8576b"
             ],
             [
              0.6666666666666666,
              "#ed7953"
             ],
             [
              0.7777777777777778,
              "#fb9f3a"
             ],
             [
              0.8888888888888888,
              "#fdca26"
             ],
             [
              1,
              "#f0f921"
             ]
            ],
            "type": "surface"
           }
          ],
          "table": [
           {
            "cells": {
             "fill": {
              "color": "#EBF0F8"
             },
             "line": {
              "color": "white"
             }
            },
            "header": {
             "fill": {
              "color": "#C8D4E3"
             },
             "line": {
              "color": "white"
             }
            },
            "type": "table"
           }
          ]
         },
         "layout": {
          "annotationdefaults": {
           "arrowcolor": "#2a3f5f",
           "arrowhead": 0,
           "arrowwidth": 1
          },
          "autotypenumbers": "strict",
          "coloraxis": {
           "colorbar": {
            "outlinewidth": 0,
            "ticks": ""
           }
          },
          "colorscale": {
           "diverging": [
            [
             0,
             "#8e0152"
            ],
            [
             0.1,
             "#c51b7d"
            ],
            [
             0.2,
             "#de77ae"
            ],
            [
             0.3,
             "#f1b6da"
            ],
            [
             0.4,
             "#fde0ef"
            ],
            [
             0.5,
             "#f7f7f7"
            ],
            [
             0.6,
             "#e6f5d0"
            ],
            [
             0.7,
             "#b8e186"
            ],
            [
             0.8,
             "#7fbc41"
            ],
            [
             0.9,
             "#4d9221"
            ],
            [
             1,
             "#276419"
            ]
           ],
           "sequential": [
            [
             0,
             "#0d0887"
            ],
            [
             0.1111111111111111,
             "#46039f"
            ],
            [
             0.2222222222222222,
             "#7201a8"
            ],
            [
             0.3333333333333333,
             "#9c179e"
            ],
            [
             0.4444444444444444,
             "#bd3786"
            ],
            [
             0.5555555555555556,
             "#d8576b"
            ],
            [
             0.6666666666666666,
             "#ed7953"
            ],
            [
             0.7777777777777778,
             "#fb9f3a"
            ],
            [
             0.8888888888888888,
             "#fdca26"
            ],
            [
             1,
             "#f0f921"
            ]
           ],
           "sequentialminus": [
            [
             0,
             "#0d0887"
            ],
            [
             0.1111111111111111,
             "#46039f"
            ],
            [
             0.2222222222222222,
             "#7201a8"
            ],
            [
             0.3333333333333333,
             "#9c179e"
            ],
            [
             0.4444444444444444,
             "#bd3786"
            ],
            [
             0.5555555555555556,
             "#d8576b"
            ],
            [
             0.6666666666666666,
             "#ed7953"
            ],
            [
             0.7777777777777778,
             "#fb9f3a"
            ],
            [
             0.8888888888888888,
             "#fdca26"
            ],
            [
             1,
             "#f0f921"
            ]
           ]
          },
          "colorway": [
           "#636efa",
           "#EF553B",
           "#00cc96",
           "#ab63fa",
           "#FFA15A",
           "#19d3f3",
           "#FF6692",
           "#B6E880",
           "#FF97FF",
           "#FECB52"
          ],
          "font": {
           "color": "#2a3f5f"
          },
          "geo": {
           "bgcolor": "white",
           "lakecolor": "white",
           "landcolor": "#E5ECF6",
           "showlakes": true,
           "showland": true,
           "subunitcolor": "white"
          },
          "hoverlabel": {
           "align": "left"
          },
          "hovermode": "closest",
          "mapbox": {
           "style": "light"
          },
          "paper_bgcolor": "white",
          "plot_bgcolor": "#E5ECF6",
          "polar": {
           "angularaxis": {
            "gridcolor": "white",
            "linecolor": "white",
            "ticks": ""
           },
           "bgcolor": "#E5ECF6",
           "radialaxis": {
            "gridcolor": "white",
            "linecolor": "white",
            "ticks": ""
           }
          },
          "scene": {
           "xaxis": {
            "backgroundcolor": "#E5ECF6",
            "gridcolor": "white",
            "gridwidth": 2,
            "linecolor": "white",
            "showbackground": true,
            "ticks": "",
            "zerolinecolor": "white"
           },
           "yaxis": {
            "backgroundcolor": "#E5ECF6",
            "gridcolor": "white",
            "gridwidth": 2,
            "linecolor": "white",
            "showbackground": true,
            "ticks": "",
            "zerolinecolor": "white"
           },
           "zaxis": {
            "backgroundcolor": "#E5ECF6",
            "gridcolor": "white",
            "gridwidth": 2,
            "linecolor": "white",
            "showbackground": true,
            "ticks": "",
            "zerolinecolor": "white"
           }
          },
          "shapedefaults": {
           "line": {
            "color": "#2a3f5f"
           }
          },
          "ternary": {
           "aaxis": {
            "gridcolor": "white",
            "linecolor": "white",
            "ticks": ""
           },
           "baxis": {
            "gridcolor": "white",
            "linecolor": "white",
            "ticks": ""
           },
           "bgcolor": "#E5ECF6",
           "caxis": {
            "gridcolor": "white",
            "linecolor": "white",
            "ticks": ""
           }
          },
          "title": {
           "x": 0.05
          },
          "xaxis": {
           "automargin": true,
           "gridcolor": "white",
           "linecolor": "white",
           "ticks": "",
           "title": {
            "standoff": 15
           },
           "zerolinecolor": "white",
           "zerolinewidth": 2
          },
          "yaxis": {
           "automargin": true,
           "gridcolor": "white",
           "linecolor": "white",
           "ticks": "",
           "title": {
            "standoff": 15
           },
           "zerolinecolor": "white",
           "zerolinewidth": 2
          }
         }
        },
        "title": {
         "text": "Accuracy by Mask Angle"
        },
        "xaxis": {
         "title": {
          "text": "Mask Angle (Radians)"
         }
        },
        "yaxis": {
         "title": {
          "text": "Test Accuracy"
         }
        }
       }
      }
     },
     "metadata": {},
     "output_type": "display_data"
    }
   ],
   "source": [
    "fig2 = go.Figure()\n",
    "    \n",
    "fig2.add_trace(go.Scatter(x=angles * np.pi, y=all_accuracy, name=\"Non-Spiking Accuracy\"))\n",
    "fig2.add_trace(go.Scatter(x=angles * np.pi, y=all_accuracy_spk[:,3], name=\"Spiking Accuracy\"))\n",
    "\n",
    "fig2.update_layout(title=\"Accuracy by Mask Angle\",\n",
    "                  xaxis_title=\"Mask Angle (Radians)\",\n",
    "                  yaxis_title=\"Test Accuracy\")"
   ]
  },
  {
   "cell_type": "code",
   "execution_count": 15,
   "metadata": {},
   "outputs": [
    {
     "data": {
      "application/vnd.plotly.v1+json": {
       "config": {
        "plotlyServerURL": "https://plot.ly"
       },
       "data": [
        {
         "type": "scatter",
         "x": [
          1,
          0.9523840166520381,
          0.9147153362847756,
          0.8843546574530394,
          0.8584899893705397,
          0.8346791193969008,
          0.8126132255015166,
          0.7916301298832548,
          0.7713586217251377,
          0.7522028870340707,
          0.7332807228617046,
          0.7150959694299145,
          0.6973297399455223,
          0.679879575319912,
          0.6626529440931651,
          0.6456756790479025,
          0.6288539467082507,
          0.6121504246324733,
          0.5952584839601448,
          0.5783894170021666,
          0.5617367943775827,
          0.5447824892142544,
          0.5273602339236633,
          0.5099602077102315,
          0.49245553118163266,
          0.4747458698524945
         ],
         "y": [
          0.9864416362823337,
          0.9173510307741699,
          0.8203992100073381,
          0.7996932902219773,
          0.7497430230691615,
          0.7047727767840763,
          0.6744646194505597,
          0.62448110151807,
          0.6160652145248576,
          0.5553297273436067,
          0.5165544452852688,
          0.49575801745092635,
          0.4843736384379012,
          0.4443337518345256,
          0.43684824172170234,
          0.39997026061731783,
          0.39831882911392397,
          0.36132490024766095,
          0.32982544773894695,
          0.32767618613557153,
          0.31458827795358657,
          0.29832205386626304,
          0.2832281347459181,
          0.2724044326729039,
          0.2676026331177766,
          0.24951012428912125
         ]
        }
       ],
       "layout": {
        "template": {
         "data": {
          "bar": [
           {
            "error_x": {
             "color": "#2a3f5f"
            },
            "error_y": {
             "color": "#2a3f5f"
            },
            "marker": {
             "line": {
              "color": "#E5ECF6",
              "width": 0.5
             },
             "pattern": {
              "fillmode": "overlay",
              "size": 10,
              "solidity": 0.2
             }
            },
            "type": "bar"
           }
          ],
          "barpolar": [
           {
            "marker": {
             "line": {
              "color": "#E5ECF6",
              "width": 0.5
             },
             "pattern": {
              "fillmode": "overlay",
              "size": 10,
              "solidity": 0.2
             }
            },
            "type": "barpolar"
           }
          ],
          "carpet": [
           {
            "aaxis": {
             "endlinecolor": "#2a3f5f",
             "gridcolor": "white",
             "linecolor": "white",
             "minorgridcolor": "white",
             "startlinecolor": "#2a3f5f"
            },
            "baxis": {
             "endlinecolor": "#2a3f5f",
             "gridcolor": "white",
             "linecolor": "white",
             "minorgridcolor": "white",
             "startlinecolor": "#2a3f5f"
            },
            "type": "carpet"
           }
          ],
          "choropleth": [
           {
            "colorbar": {
             "outlinewidth": 0,
             "ticks": ""
            },
            "type": "choropleth"
           }
          ],
          "contour": [
           {
            "colorbar": {
             "outlinewidth": 0,
             "ticks": ""
            },
            "colorscale": [
             [
              0,
              "#0d0887"
             ],
             [
              0.1111111111111111,
              "#46039f"
             ],
             [
              0.2222222222222222,
              "#7201a8"
             ],
             [
              0.3333333333333333,
              "#9c179e"
             ],
             [
              0.4444444444444444,
              "#bd3786"
             ],
             [
              0.5555555555555556,
              "#d8576b"
             ],
             [
              0.6666666666666666,
              "#ed7953"
             ],
             [
              0.7777777777777778,
              "#fb9f3a"
             ],
             [
              0.8888888888888888,
              "#fdca26"
             ],
             [
              1,
              "#f0f921"
             ]
            ],
            "type": "contour"
           }
          ],
          "contourcarpet": [
           {
            "colorbar": {
             "outlinewidth": 0,
             "ticks": ""
            },
            "type": "contourcarpet"
           }
          ],
          "heatmap": [
           {
            "colorbar": {
             "outlinewidth": 0,
             "ticks": ""
            },
            "colorscale": [
             [
              0,
              "#0d0887"
             ],
             [
              0.1111111111111111,
              "#46039f"
             ],
             [
              0.2222222222222222,
              "#7201a8"
             ],
             [
              0.3333333333333333,
              "#9c179e"
             ],
             [
              0.4444444444444444,
              "#bd3786"
             ],
             [
              0.5555555555555556,
              "#d8576b"
             ],
             [
              0.6666666666666666,
              "#ed7953"
             ],
             [
              0.7777777777777778,
              "#fb9f3a"
             ],
             [
              0.8888888888888888,
              "#fdca26"
             ],
             [
              1,
              "#f0f921"
             ]
            ],
            "type": "heatmap"
           }
          ],
          "heatmapgl": [
           {
            "colorbar": {
             "outlinewidth": 0,
             "ticks": ""
            },
            "colorscale": [
             [
              0,
              "#0d0887"
             ],
             [
              0.1111111111111111,
              "#46039f"
             ],
             [
              0.2222222222222222,
              "#7201a8"
             ],
             [
              0.3333333333333333,
              "#9c179e"
             ],
             [
              0.4444444444444444,
              "#bd3786"
             ],
             [
              0.5555555555555556,
              "#d8576b"
             ],
             [
              0.6666666666666666,
              "#ed7953"
             ],
             [
              0.7777777777777778,
              "#fb9f3a"
             ],
             [
              0.8888888888888888,
              "#fdca26"
             ],
             [
              1,
              "#f0f921"
             ]
            ],
            "type": "heatmapgl"
           }
          ],
          "histogram": [
           {
            "marker": {
             "pattern": {
              "fillmode": "overlay",
              "size": 10,
              "solidity": 0.2
             }
            },
            "type": "histogram"
           }
          ],
          "histogram2d": [
           {
            "colorbar": {
             "outlinewidth": 0,
             "ticks": ""
            },
            "colorscale": [
             [
              0,
              "#0d0887"
             ],
             [
              0.1111111111111111,
              "#46039f"
             ],
             [
              0.2222222222222222,
              "#7201a8"
             ],
             [
              0.3333333333333333,
              "#9c179e"
             ],
             [
              0.4444444444444444,
              "#bd3786"
             ],
             [
              0.5555555555555556,
              "#d8576b"
             ],
             [
              0.6666666666666666,
              "#ed7953"
             ],
             [
              0.7777777777777778,
              "#fb9f3a"
             ],
             [
              0.8888888888888888,
              "#fdca26"
             ],
             [
              1,
              "#f0f921"
             ]
            ],
            "type": "histogram2d"
           }
          ],
          "histogram2dcontour": [
           {
            "colorbar": {
             "outlinewidth": 0,
             "ticks": ""
            },
            "colorscale": [
             [
              0,
              "#0d0887"
             ],
             [
              0.1111111111111111,
              "#46039f"
             ],
             [
              0.2222222222222222,
              "#7201a8"
             ],
             [
              0.3333333333333333,
              "#9c179e"
             ],
             [
              0.4444444444444444,
              "#bd3786"
             ],
             [
              0.5555555555555556,
              "#d8576b"
             ],
             [
              0.6666666666666666,
              "#ed7953"
             ],
             [
              0.7777777777777778,
              "#fb9f3a"
             ],
             [
              0.8888888888888888,
              "#fdca26"
             ],
             [
              1,
              "#f0f921"
             ]
            ],
            "type": "histogram2dcontour"
           }
          ],
          "mesh3d": [
           {
            "colorbar": {
             "outlinewidth": 0,
             "ticks": ""
            },
            "type": "mesh3d"
           }
          ],
          "parcoords": [
           {
            "line": {
             "colorbar": {
              "outlinewidth": 0,
              "ticks": ""
             }
            },
            "type": "parcoords"
           }
          ],
          "pie": [
           {
            "automargin": true,
            "type": "pie"
           }
          ],
          "scatter": [
           {
            "fillpattern": {
             "fillmode": "overlay",
             "size": 10,
             "solidity": 0.2
            },
            "type": "scatter"
           }
          ],
          "scatter3d": [
           {
            "line": {
             "colorbar": {
              "outlinewidth": 0,
              "ticks": ""
             }
            },
            "marker": {
             "colorbar": {
              "outlinewidth": 0,
              "ticks": ""
             }
            },
            "type": "scatter3d"
           }
          ],
          "scattercarpet": [
           {
            "marker": {
             "colorbar": {
              "outlinewidth": 0,
              "ticks": ""
             }
            },
            "type": "scattercarpet"
           }
          ],
          "scattergeo": [
           {
            "marker": {
             "colorbar": {
              "outlinewidth": 0,
              "ticks": ""
             }
            },
            "type": "scattergeo"
           }
          ],
          "scattergl": [
           {
            "marker": {
             "colorbar": {
              "outlinewidth": 0,
              "ticks": ""
             }
            },
            "type": "scattergl"
           }
          ],
          "scattermapbox": [
           {
            "marker": {
             "colorbar": {
              "outlinewidth": 0,
              "ticks": ""
             }
            },
            "type": "scattermapbox"
           }
          ],
          "scatterpolar": [
           {
            "marker": {
             "colorbar": {
              "outlinewidth": 0,
              "ticks": ""
             }
            },
            "type": "scatterpolar"
           }
          ],
          "scatterpolargl": [
           {
            "marker": {
             "colorbar": {
              "outlinewidth": 0,
              "ticks": ""
             }
            },
            "type": "scatterpolargl"
           }
          ],
          "scatterternary": [
           {
            "marker": {
             "colorbar": {
              "outlinewidth": 0,
              "ticks": ""
             }
            },
            "type": "scatterternary"
           }
          ],
          "surface": [
           {
            "colorbar": {
             "outlinewidth": 0,
             "ticks": ""
            },
            "colorscale": [
             [
              0,
              "#0d0887"
             ],
             [
              0.1111111111111111,
              "#46039f"
             ],
             [
              0.2222222222222222,
              "#7201a8"
             ],
             [
              0.3333333333333333,
              "#9c179e"
             ],
             [
              0.4444444444444444,
              "#bd3786"
             ],
             [
              0.5555555555555556,
              "#d8576b"
             ],
             [
              0.6666666666666666,
              "#ed7953"
             ],
             [
              0.7777777777777778,
              "#fb9f3a"
             ],
             [
              0.8888888888888888,
              "#fdca26"
             ],
             [
              1,
              "#f0f921"
             ]
            ],
            "type": "surface"
           }
          ],
          "table": [
           {
            "cells": {
             "fill": {
              "color": "#EBF0F8"
             },
             "line": {
              "color": "white"
             }
            },
            "header": {
             "fill": {
              "color": "#C8D4E3"
             },
             "line": {
              "color": "white"
             }
            },
            "type": "table"
           }
          ]
         },
         "layout": {
          "annotationdefaults": {
           "arrowcolor": "#2a3f5f",
           "arrowhead": 0,
           "arrowwidth": 1
          },
          "autotypenumbers": "strict",
          "coloraxis": {
           "colorbar": {
            "outlinewidth": 0,
            "ticks": ""
           }
          },
          "colorscale": {
           "diverging": [
            [
             0,
             "#8e0152"
            ],
            [
             0.1,
             "#c51b7d"
            ],
            [
             0.2,
             "#de77ae"
            ],
            [
             0.3,
             "#f1b6da"
            ],
            [
             0.4,
             "#fde0ef"
            ],
            [
             0.5,
             "#f7f7f7"
            ],
            [
             0.6,
             "#e6f5d0"
            ],
            [
             0.7,
             "#b8e186"
            ],
            [
             0.8,
             "#7fbc41"
            ],
            [
             0.9,
             "#4d9221"
            ],
            [
             1,
             "#276419"
            ]
           ],
           "sequential": [
            [
             0,
             "#0d0887"
            ],
            [
             0.1111111111111111,
             "#46039f"
            ],
            [
             0.2222222222222222,
             "#7201a8"
            ],
            [
             0.3333333333333333,
             "#9c179e"
            ],
            [
             0.4444444444444444,
             "#bd3786"
            ],
            [
             0.5555555555555556,
             "#d8576b"
            ],
            [
             0.6666666666666666,
             "#ed7953"
            ],
            [
             0.7777777777777778,
             "#fb9f3a"
            ],
            [
             0.8888888888888888,
             "#fdca26"
            ],
            [
             1,
             "#f0f921"
            ]
           ],
           "sequentialminus": [
            [
             0,
             "#0d0887"
            ],
            [
             0.1111111111111111,
             "#46039f"
            ],
            [
             0.2222222222222222,
             "#7201a8"
            ],
            [
             0.3333333333333333,
             "#9c179e"
            ],
            [
             0.4444444444444444,
             "#bd3786"
            ],
            [
             0.5555555555555556,
             "#d8576b"
            ],
            [
             0.6666666666666666,
             "#ed7953"
            ],
            [
             0.7777777777777778,
             "#fb9f3a"
            ],
            [
             0.8888888888888888,
             "#fdca26"
            ],
            [
             1,
             "#f0f921"
            ]
           ]
          },
          "colorway": [
           "#636efa",
           "#EF553B",
           "#00cc96",
           "#ab63fa",
           "#FFA15A",
           "#19d3f3",
           "#FF6692",
           "#B6E880",
           "#FF97FF",
           "#FECB52"
          ],
          "font": {
           "color": "#2a3f5f"
          },
          "geo": {
           "bgcolor": "white",
           "lakecolor": "white",
           "landcolor": "#E5ECF6",
           "showlakes": true,
           "showland": true,
           "subunitcolor": "white"
          },
          "hoverlabel": {
           "align": "left"
          },
          "hovermode": "closest",
          "mapbox": {
           "style": "light"
          },
          "paper_bgcolor": "white",
          "plot_bgcolor": "#E5ECF6",
          "polar": {
           "angularaxis": {
            "gridcolor": "white",
            "linecolor": "white",
            "ticks": ""
           },
           "bgcolor": "#E5ECF6",
           "radialaxis": {
            "gridcolor": "white",
            "linecolor": "white",
            "ticks": ""
           }
          },
          "scene": {
           "xaxis": {
            "backgroundcolor": "#E5ECF6",
            "gridcolor": "white",
            "gridwidth": 2,
            "linecolor": "white",
            "showbackground": true,
            "ticks": "",
            "zerolinecolor": "white"
           },
           "yaxis": {
            "backgroundcolor": "#E5ECF6",
            "gridcolor": "white",
            "gridwidth": 2,
            "linecolor": "white",
            "showbackground": true,
            "ticks": "",
            "zerolinecolor": "white"
           },
           "zaxis": {
            "backgroundcolor": "#E5ECF6",
            "gridcolor": "white",
            "gridwidth": 2,
            "linecolor": "white",
            "showbackground": true,
            "ticks": "",
            "zerolinecolor": "white"
           }
          },
          "shapedefaults": {
           "line": {
            "color": "#2a3f5f"
           }
          },
          "ternary": {
           "aaxis": {
            "gridcolor": "white",
            "linecolor": "white",
            "ticks": ""
           },
           "baxis": {
            "gridcolor": "white",
            "linecolor": "white",
            "ticks": ""
           },
           "bgcolor": "#E5ECF6",
           "caxis": {
            "gridcolor": "white",
            "linecolor": "white",
            "ticks": ""
           }
          },
          "title": {
           "x": 0.05
          },
          "xaxis": {
           "automargin": true,
           "gridcolor": "white",
           "linecolor": "white",
           "ticks": "",
           "title": {
            "standoff": 15
           },
           "zerolinecolor": "white",
           "zerolinewidth": 2
          },
          "yaxis": {
           "automargin": true,
           "gridcolor": "white",
           "linecolor": "white",
           "ticks": "",
           "title": {
            "standoff": 15
           },
           "zerolinecolor": "white",
           "zerolinewidth": 2
          }
         }
        },
        "title": {
         "text": "Firing Rate vs. Matrix Occupancy"
        },
        "xaxis": {
         "title": {
          "text": "Matrix Occupancy"
         }
        },
        "yaxis": {
         "title": {
          "text": "Firing Rate"
         }
        }
       }
      }
     },
     "metadata": {},
     "output_type": "display_data"
    }
   ],
   "source": [
    "fig3 = go.Figure()\n",
    "    \n",
    "fig3.add_trace(go.Scatter(x=matrix_usage, y=firing_rates))\n",
    "\n",
    "fig3.update_layout(title=\"Firing Rate vs. Matrix Occupancy\",\n",
    "                  xaxis_title=\"Matrix Occupancy\",\n",
    "                  yaxis_title=\"Firing Rate\")"
   ]
  },
  {
   "cell_type": "code",
   "execution_count": 16,
   "metadata": {},
   "outputs": [
    {
     "data": {
      "application/vnd.plotly.v1+json": {
       "config": {
        "plotlyServerURL": "https://plot.ly"
       },
       "data": [
        {
         "name": "Non-Spiking Accuracy",
         "type": "scatter",
         "x": [
          1,
          0.9523840166520381,
          0.9147153362847756,
          0.8843546574530394,
          0.8584899893705397,
          0.8346791193969008,
          0.8126132255015166,
          0.7916301298832548,
          0.7713586217251377,
          0.7522028870340707,
          0.7332807228617046,
          0.7150959694299145,
          0.6973297399455223,
          0.679879575319912,
          0.6626529440931651,
          0.6456756790479025,
          0.6288539467082507,
          0.6121504246324733,
          0.5952584839601448,
          0.5783894170021666,
          0.5617367943775827,
          0.5447824892142544,
          0.5273602339236633,
          0.5099602077102315,
          0.49245553118163266,
          0.4747458698524945
         ],
         "y": [
          0.8508999943733215,
          0.8508999943733215,
          0.8503999710083008,
          0.848800003528595,
          0.848800003528595,
          0.849399983882904,
          0.8477999567985535,
          0.8455999493598938,
          0.8450999855995178,
          0.8435999751091003,
          0.8434000015258789,
          0.8394999504089355,
          0.8398999571800232,
          0.8398999571800232,
          0.837399959564209,
          0.835599958896637,
          0.8348000049591064,
          0.8343999981880188,
          0.8317999839782715,
          0.8274999856948853,
          0.8233000040054321,
          0.8185999989509583,
          0.8122999668121338,
          0.8079999685287476,
          0.7999999523162842,
          0.7897999882698059
         ]
        },
        {
         "name": "Spiking Accuracy",
         "type": "scatter",
         "x": [
          0.9864416362823337,
          0.9173510307741699,
          0.8203992100073381,
          0.7996932902219773,
          0.7497430230691615,
          0.7047727767840763,
          0.6744646194505597,
          0.62448110151807,
          0.6160652145248576,
          0.5553297273436067,
          0.5165544452852688,
          0.49575801745092635,
          0.4843736384379012,
          0.4443337518345256,
          0.43684824172170234,
          0.39997026061731783,
          0.39831882911392397,
          0.36132490024766095,
          0.32982544773894695,
          0.32767618613557153,
          0.31458827795358657,
          0.29832205386626304,
          0.2832281347459181,
          0.2724044326729039,
          0.2676026331177766,
          0.24951012428912125
         ],
         "y": [
          0.8484999537467957,
          0.8497999906539917,
          0.8495999574661255,
          0.848800003528595,
          0.848800003528595,
          0.8485999703407288,
          0.8479999899864197,
          0.8468999862670898,
          0.8468999862670898,
          0.8447999954223633,
          0.8417999744415283,
          0.8416999578475952,
          0.8409000039100647,
          0.8416000008583069,
          0.8399999737739563,
          0.8396999835968018,
          0.8391000032424927,
          0.8366000056266785,
          0.8296999931335449,
          0.8294000029563904,
          0.821899950504303,
          0.8204999566078186,
          0.8155999779701233,
          0.8053999543190002,
          0.804099977016449,
          0.7828999757766724
         ]
        }
       ],
       "layout": {
        "template": {
         "data": {
          "bar": [
           {
            "error_x": {
             "color": "#2a3f5f"
            },
            "error_y": {
             "color": "#2a3f5f"
            },
            "marker": {
             "line": {
              "color": "#E5ECF6",
              "width": 0.5
             },
             "pattern": {
              "fillmode": "overlay",
              "size": 10,
              "solidity": 0.2
             }
            },
            "type": "bar"
           }
          ],
          "barpolar": [
           {
            "marker": {
             "line": {
              "color": "#E5ECF6",
              "width": 0.5
             },
             "pattern": {
              "fillmode": "overlay",
              "size": 10,
              "solidity": 0.2
             }
            },
            "type": "barpolar"
           }
          ],
          "carpet": [
           {
            "aaxis": {
             "endlinecolor": "#2a3f5f",
             "gridcolor": "white",
             "linecolor": "white",
             "minorgridcolor": "white",
             "startlinecolor": "#2a3f5f"
            },
            "baxis": {
             "endlinecolor": "#2a3f5f",
             "gridcolor": "white",
             "linecolor": "white",
             "minorgridcolor": "white",
             "startlinecolor": "#2a3f5f"
            },
            "type": "carpet"
           }
          ],
          "choropleth": [
           {
            "colorbar": {
             "outlinewidth": 0,
             "ticks": ""
            },
            "type": "choropleth"
           }
          ],
          "contour": [
           {
            "colorbar": {
             "outlinewidth": 0,
             "ticks": ""
            },
            "colorscale": [
             [
              0,
              "#0d0887"
             ],
             [
              0.1111111111111111,
              "#46039f"
             ],
             [
              0.2222222222222222,
              "#7201a8"
             ],
             [
              0.3333333333333333,
              "#9c179e"
             ],
             [
              0.4444444444444444,
              "#bd3786"
             ],
             [
              0.5555555555555556,
              "#d8576b"
             ],
             [
              0.6666666666666666,
              "#ed7953"
             ],
             [
              0.7777777777777778,
              "#fb9f3a"
             ],
             [
              0.8888888888888888,
              "#fdca26"
             ],
             [
              1,
              "#f0f921"
             ]
            ],
            "type": "contour"
           }
          ],
          "contourcarpet": [
           {
            "colorbar": {
             "outlinewidth": 0,
             "ticks": ""
            },
            "type": "contourcarpet"
           }
          ],
          "heatmap": [
           {
            "colorbar": {
             "outlinewidth": 0,
             "ticks": ""
            },
            "colorscale": [
             [
              0,
              "#0d0887"
             ],
             [
              0.1111111111111111,
              "#46039f"
             ],
             [
              0.2222222222222222,
              "#7201a8"
             ],
             [
              0.3333333333333333,
              "#9c179e"
             ],
             [
              0.4444444444444444,
              "#bd3786"
             ],
             [
              0.5555555555555556,
              "#d8576b"
             ],
             [
              0.6666666666666666,
              "#ed7953"
             ],
             [
              0.7777777777777778,
              "#fb9f3a"
             ],
             [
              0.8888888888888888,
              "#fdca26"
             ],
             [
              1,
              "#f0f921"
             ]
            ],
            "type": "heatmap"
           }
          ],
          "heatmapgl": [
           {
            "colorbar": {
             "outlinewidth": 0,
             "ticks": ""
            },
            "colorscale": [
             [
              0,
              "#0d0887"
             ],
             [
              0.1111111111111111,
              "#46039f"
             ],
             [
              0.2222222222222222,
              "#7201a8"
             ],
             [
              0.3333333333333333,
              "#9c179e"
             ],
             [
              0.4444444444444444,
              "#bd3786"
             ],
             [
              0.5555555555555556,
              "#d8576b"
             ],
             [
              0.6666666666666666,
              "#ed7953"
             ],
             [
              0.7777777777777778,
              "#fb9f3a"
             ],
             [
              0.8888888888888888,
              "#fdca26"
             ],
             [
              1,
              "#f0f921"
             ]
            ],
            "type": "heatmapgl"
           }
          ],
          "histogram": [
           {
            "marker": {
             "pattern": {
              "fillmode": "overlay",
              "size": 10,
              "solidity": 0.2
             }
            },
            "type": "histogram"
           }
          ],
          "histogram2d": [
           {
            "colorbar": {
             "outlinewidth": 0,
             "ticks": ""
            },
            "colorscale": [
             [
              0,
              "#0d0887"
             ],
             [
              0.1111111111111111,
              "#46039f"
             ],
             [
              0.2222222222222222,
              "#7201a8"
             ],
             [
              0.3333333333333333,
              "#9c179e"
             ],
             [
              0.4444444444444444,
              "#bd3786"
             ],
             [
              0.5555555555555556,
              "#d8576b"
             ],
             [
              0.6666666666666666,
              "#ed7953"
             ],
             [
              0.7777777777777778,
              "#fb9f3a"
             ],
             [
              0.8888888888888888,
              "#fdca26"
             ],
             [
              1,
              "#f0f921"
             ]
            ],
            "type": "histogram2d"
           }
          ],
          "histogram2dcontour": [
           {
            "colorbar": {
             "outlinewidth": 0,
             "ticks": ""
            },
            "colorscale": [
             [
              0,
              "#0d0887"
             ],
             [
              0.1111111111111111,
              "#46039f"
             ],
             [
              0.2222222222222222,
              "#7201a8"
             ],
             [
              0.3333333333333333,
              "#9c179e"
             ],
             [
              0.4444444444444444,
              "#bd3786"
             ],
             [
              0.5555555555555556,
              "#d8576b"
             ],
             [
              0.6666666666666666,
              "#ed7953"
             ],
             [
              0.7777777777777778,
              "#fb9f3a"
             ],
             [
              0.8888888888888888,
              "#fdca26"
             ],
             [
              1,
              "#f0f921"
             ]
            ],
            "type": "histogram2dcontour"
           }
          ],
          "mesh3d": [
           {
            "colorbar": {
             "outlinewidth": 0,
             "ticks": ""
            },
            "type": "mesh3d"
           }
          ],
          "parcoords": [
           {
            "line": {
             "colorbar": {
              "outlinewidth": 0,
              "ticks": ""
             }
            },
            "type": "parcoords"
           }
          ],
          "pie": [
           {
            "automargin": true,
            "type": "pie"
           }
          ],
          "scatter": [
           {
            "fillpattern": {
             "fillmode": "overlay",
             "size": 10,
             "solidity": 0.2
            },
            "type": "scatter"
           }
          ],
          "scatter3d": [
           {
            "line": {
             "colorbar": {
              "outlinewidth": 0,
              "ticks": ""
             }
            },
            "marker": {
             "colorbar": {
              "outlinewidth": 0,
              "ticks": ""
             }
            },
            "type": "scatter3d"
           }
          ],
          "scattercarpet": [
           {
            "marker": {
             "colorbar": {
              "outlinewidth": 0,
              "ticks": ""
             }
            },
            "type": "scattercarpet"
           }
          ],
          "scattergeo": [
           {
            "marker": {
             "colorbar": {
              "outlinewidth": 0,
              "ticks": ""
             }
            },
            "type": "scattergeo"
           }
          ],
          "scattergl": [
           {
            "marker": {
             "colorbar": {
              "outlinewidth": 0,
              "ticks": ""
             }
            },
            "type": "scattergl"
           }
          ],
          "scattermapbox": [
           {
            "marker": {
             "colorbar": {
              "outlinewidth": 0,
              "ticks": ""
             }
            },
            "type": "scattermapbox"
           }
          ],
          "scatterpolar": [
           {
            "marker": {
             "colorbar": {
              "outlinewidth": 0,
              "ticks": ""
             }
            },
            "type": "scatterpolar"
           }
          ],
          "scatterpolargl": [
           {
            "marker": {
             "colorbar": {
              "outlinewidth": 0,
              "ticks": ""
             }
            },
            "type": "scatterpolargl"
           }
          ],
          "scatterternary": [
           {
            "marker": {
             "colorbar": {
              "outlinewidth": 0,
              "ticks": ""
             }
            },
            "type": "scatterternary"
           }
          ],
          "surface": [
           {
            "colorbar": {
             "outlinewidth": 0,
             "ticks": ""
            },
            "colorscale": [
             [
              0,
              "#0d0887"
             ],
             [
              0.1111111111111111,
              "#46039f"
             ],
             [
              0.2222222222222222,
              "#7201a8"
             ],
             [
              0.3333333333333333,
              "#9c179e"
             ],
             [
              0.4444444444444444,
              "#bd3786"
             ],
             [
              0.5555555555555556,
              "#d8576b"
             ],
             [
              0.6666666666666666,
              "#ed7953"
             ],
             [
              0.7777777777777778,
              "#fb9f3a"
             ],
             [
              0.8888888888888888,
              "#fdca26"
             ],
             [
              1,
              "#f0f921"
             ]
            ],
            "type": "surface"
           }
          ],
          "table": [
           {
            "cells": {
             "fill": {
              "color": "#EBF0F8"
             },
             "line": {
              "color": "white"
             }
            },
            "header": {
             "fill": {
              "color": "#C8D4E3"
             },
             "line": {
              "color": "white"
             }
            },
            "type": "table"
           }
          ]
         },
         "layout": {
          "annotationdefaults": {
           "arrowcolor": "#2a3f5f",
           "arrowhead": 0,
           "arrowwidth": 1
          },
          "autotypenumbers": "strict",
          "coloraxis": {
           "colorbar": {
            "outlinewidth": 0,
            "ticks": ""
           }
          },
          "colorscale": {
           "diverging": [
            [
             0,
             "#8e0152"
            ],
            [
             0.1,
             "#c51b7d"
            ],
            [
             0.2,
             "#de77ae"
            ],
            [
             0.3,
             "#f1b6da"
            ],
            [
             0.4,
             "#fde0ef"
            ],
            [
             0.5,
             "#f7f7f7"
            ],
            [
             0.6,
             "#e6f5d0"
            ],
            [
             0.7,
             "#b8e186"
            ],
            [
             0.8,
             "#7fbc41"
            ],
            [
             0.9,
             "#4d9221"
            ],
            [
             1,
             "#276419"
            ]
           ],
           "sequential": [
            [
             0,
             "#0d0887"
            ],
            [
             0.1111111111111111,
             "#46039f"
            ],
            [
             0.2222222222222222,
             "#7201a8"
            ],
            [
             0.3333333333333333,
             "#9c179e"
            ],
            [
             0.4444444444444444,
             "#bd3786"
            ],
            [
             0.5555555555555556,
             "#d8576b"
            ],
            [
             0.6666666666666666,
             "#ed7953"
            ],
            [
             0.7777777777777778,
             "#fb9f3a"
            ],
            [
             0.8888888888888888,
             "#fdca26"
            ],
            [
             1,
             "#f0f921"
            ]
           ],
           "sequentialminus": [
            [
             0,
             "#0d0887"
            ],
            [
             0.1111111111111111,
             "#46039f"
            ],
            [
             0.2222222222222222,
             "#7201a8"
            ],
            [
             0.3333333333333333,
             "#9c179e"
            ],
            [
             0.4444444444444444,
             "#bd3786"
            ],
            [
             0.5555555555555556,
             "#d8576b"
            ],
            [
             0.6666666666666666,
             "#ed7953"
            ],
            [
             0.7777777777777778,
             "#fb9f3a"
            ],
            [
             0.8888888888888888,
             "#fdca26"
            ],
            [
             1,
             "#f0f921"
            ]
           ]
          },
          "colorway": [
           "#636efa",
           "#EF553B",
           "#00cc96",
           "#ab63fa",
           "#FFA15A",
           "#19d3f3",
           "#FF6692",
           "#B6E880",
           "#FF97FF",
           "#FECB52"
          ],
          "font": {
           "color": "#2a3f5f"
          },
          "geo": {
           "bgcolor": "white",
           "lakecolor": "white",
           "landcolor": "#E5ECF6",
           "showlakes": true,
           "showland": true,
           "subunitcolor": "white"
          },
          "hoverlabel": {
           "align": "left"
          },
          "hovermode": "closest",
          "mapbox": {
           "style": "light"
          },
          "paper_bgcolor": "white",
          "plot_bgcolor": "#E5ECF6",
          "polar": {
           "angularaxis": {
            "gridcolor": "white",
            "linecolor": "white",
            "ticks": ""
           },
           "bgcolor": "#E5ECF6",
           "radialaxis": {
            "gridcolor": "white",
            "linecolor": "white",
            "ticks": ""
           }
          },
          "scene": {
           "xaxis": {
            "backgroundcolor": "#E5ECF6",
            "gridcolor": "white",
            "gridwidth": 2,
            "linecolor": "white",
            "showbackground": true,
            "ticks": "",
            "zerolinecolor": "white"
           },
           "yaxis": {
            "backgroundcolor": "#E5ECF6",
            "gridcolor": "white",
            "gridwidth": 2,
            "linecolor": "white",
            "showbackground": true,
            "ticks": "",
            "zerolinecolor": "white"
           },
           "zaxis": {
            "backgroundcolor": "#E5ECF6",
            "gridcolor": "white",
            "gridwidth": 2,
            "linecolor": "white",
            "showbackground": true,
            "ticks": "",
            "zerolinecolor": "white"
           }
          },
          "shapedefaults": {
           "line": {
            "color": "#2a3f5f"
           }
          },
          "ternary": {
           "aaxis": {
            "gridcolor": "white",
            "linecolor": "white",
            "ticks": ""
           },
           "baxis": {
            "gridcolor": "white",
            "linecolor": "white",
            "ticks": ""
           },
           "bgcolor": "#E5ECF6",
           "caxis": {
            "gridcolor": "white",
            "linecolor": "white",
            "ticks": ""
           }
          },
          "title": {
           "x": 0.05
          },
          "xaxis": {
           "automargin": true,
           "gridcolor": "white",
           "linecolor": "white",
           "ticks": "",
           "title": {
            "standoff": 15
           },
           "zerolinecolor": "white",
           "zerolinewidth": 2
          },
          "yaxis": {
           "automargin": true,
           "gridcolor": "white",
           "linecolor": "white",
           "ticks": "",
           "title": {
            "standoff": 15
           },
           "zerolinecolor": "white",
           "zerolinewidth": 2
          }
         }
        },
        "title": {
         "text": "Accuracy by Occupancy"
        },
        "xaxis": {
         "title": {
          "text": "Matrix Occupancy, Firing Rate"
         }
        },
        "yaxis": {
         "title": {
          "text": "Test Accuracy"
         }
        }
       }
      }
     },
     "metadata": {},
     "output_type": "display_data"
    }
   ],
   "source": [
    "fig4 = go.Figure()\n",
    "    \n",
    "fig4.add_trace(go.Scatter(x=matrix_usage, y=all_accuracy, name=\"Non-Spiking Accuracy\"))\n",
    "fig4.add_trace(go.Scatter(x=firing_rates, y=all_accuracy_spk[:,3], name=\"Spiking Accuracy\"))\n",
    "\n",
    "fig4.update_layout(title=\"Accuracy by Occupancy\",\n",
    "                  xaxis_title=\"Matrix Occupancy, Firing Rate\",\n",
    "                  yaxis_title=\"Test Accuracy\")\n"
   ]
  },
  {
   "cell_type": "code",
   "execution_count": null,
   "metadata": {},
   "outputs": [],
   "source": []
  }
 ],
 "metadata": {
  "kernelspec": {
   "display_name": "jax",
   "language": "python",
   "name": "python3"
  },
  "language_info": {
   "codemirror_mode": {
    "name": "ipython",
    "version": 3
   },
   "file_extension": ".py",
   "mimetype": "text/x-python",
   "name": "python",
   "nbconvert_exporter": "python",
   "pygments_lexer": "ipython3",
   "version": "3.10.4"
  },
  "orig_nbformat": 4,
  "vscode": {
   "interpreter": {
    "hash": "3c7eb2c5e4b9e8a0cfaa546c77e3470a688bd185509bb2d9e9adec897e57c3ce"
   }
  }
 },
 "nbformat": 4,
 "nbformat_minor": 2
}
