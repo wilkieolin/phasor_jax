{
 "cells": [
  {
   "cell_type": "code",
   "execution_count": 1,
   "id": "3a8aa7a5",
   "metadata": {},
   "outputs": [],
   "source": [
    "import haiku as hk\n",
    "import jax\n",
    "import jax.random as jrnd\n",
    "import jax.numpy as jnp\n",
    "\n",
    "import numpy as np\n",
    "import optax"
   ]
  },
  {
   "cell_type": "code",
   "execution_count": 2,
   "id": "1fd958bb",
   "metadata": {},
   "outputs": [],
   "source": [
    "from phasor_jax.modules import *\n",
    "from phasor_jax.utils import *\n",
    "from phasor_jax.training import *"
   ]
  },
  {
   "cell_type": "code",
   "execution_count": 3,
   "id": "be0e67c4",
   "metadata": {},
   "outputs": [],
   "source": [
    "import matplotlib.pyplot as plt"
   ]
  },
  {
   "cell_type": "markdown",
   "id": "ec4a6f5c",
   "metadata": {},
   "source": [
    "# Dataset"
   ]
  },
  {
   "cell_type": "code",
   "execution_count": 4,
   "id": "e942ed35",
   "metadata": {},
   "outputs": [],
   "source": [
    "#choose standard dataset here - e.g. MNIST, Fashion MNIST, Kuzushiji MNIST\n",
    "dataset = \"fashion_mnist\""
   ]
  },
  {
   "cell_type": "code",
   "execution_count": 5,
   "id": "c6de68e2",
   "metadata": {},
   "outputs": [
    {
     "name": "stdout",
     "output_type": "stream",
     "text": [
      "Metal device set to: Apple M1 Max\n",
      "\n",
      "systemMemory: 64.00 GB\n",
      "maxCacheSize: 24.00 GB\n",
      "\n"
     ]
    },
    {
     "name": "stderr",
     "output_type": "stream",
     "text": [
      "2023-03-16 16:55:50.727687: W tensorflow/tsl/platform/profile_utils/cpu_utils.cc:128] Failed to get CPU frequency: 0 Hz\n"
     ]
    }
   ],
   "source": [
    "#load the dataset\n",
    "n_batch = 128\n",
    "train, x_train, y_train = load_dataset(dataset, split=\"train\", is_training=True, batch_size=n_batch)"
   ]
  },
  {
   "cell_type": "code",
   "execution_count": 6,
   "id": "70306c80",
   "metadata": {},
   "outputs": [
    {
     "data": {
      "text/plain": [
       "(60000, 28, 28, 1)"
      ]
     },
     "execution_count": 6,
     "metadata": {},
     "output_type": "execute_result"
    }
   ],
   "source": [
    "n_train = x_train.shape[0]\n",
    "x_train.shape"
   ]
  },
  {
   "cell_type": "markdown",
   "id": "49d7abba",
   "metadata": {},
   "source": [
    "# Model"
   ]
  },
  {
   "cell_type": "code",
   "execution_count": 7,
   "id": "04c77be2",
   "metadata": {},
   "outputs": [],
   "source": [
    "def mlp(x, \n",
    "           vsa_dimension: int = 1024,\n",
    "           spiking: bool = False,\n",
    "           **kwargs):\n",
    "    \n",
    "    x = scale_mnist(x)\n",
    "    #project into VSA\n",
    "    x = ProjectAll(vsa_dimension)(x)\n",
    "    x = layer_norm(x)\n",
    "\n",
    "    if spiking:\n",
    "        x = phase_to_train(x)\n",
    "    \n",
    "    x = conv_1d(128)(x, spiking=spiking)\n",
    "    x = conv_1d(10)(x,  spiking=spiking)\n",
    "     \n",
    "    return x"
   ]
  },
  {
   "cell_type": "code",
   "execution_count": 8,
   "id": "e9541242",
   "metadata": {},
   "outputs": [],
   "source": [
    "#declare the model as a transformation\n",
    "model = hk.transform(mlp)"
   ]
  },
  {
   "cell_type": "code",
   "execution_count": 9,
   "id": "ad92bd55",
   "metadata": {},
   "outputs": [],
   "source": [
    "#instantiate the first PRNG key\n",
    "key = jrnd.PRNGKey(42)"
   ]
  },
  {
   "cell_type": "code",
   "execution_count": 10,
   "id": "9baf8f46",
   "metadata": {},
   "outputs": [
    {
     "name": "stderr",
     "output_type": "stream",
     "text": [
      "/Users/wilkie/anaconda3/envs/jax/lib/python3.10/site-packages/haiku/_src/base.py:515: UserWarning: Explicitly requested dtype float requested in ones is not available, and will be truncated to dtype float32. To enable more dtypes, set the jax_enable_x64 configuration option or the JAX_ENABLE_X64 shell environment variable. See https://github.com/google/jax#current-gotchas for more.\n",
      "  param = init(shape, dtype)\n"
     ]
    }
   ],
   "source": [
    "#split the key and use it to create the model's initial parameters\n",
    "key, subkey = jrnd.split(key)\n",
    "params = model.init(subkey, x_train[0:10,...])"
   ]
  },
  {
   "cell_type": "code",
   "execution_count": 11,
   "id": "57087f36",
   "metadata": {},
   "outputs": [],
   "source": [
    "#get a sample batch from the train set\n",
    "b = next(train)\n",
    "x = b['image']\n",
    "y = b['label']"
   ]
  },
  {
   "cell_type": "code",
   "execution_count": 12,
   "id": "7369eb18",
   "metadata": {},
   "outputs": [
    {
     "name": "stdout",
     "output_type": "stream",
     "text": [
      "b x y c ->  (128, 28, 28, 1)\n"
     ]
    },
    {
     "data": {
      "image/png": "[encoded data removed]",
      "text/plain": [
       "<Figure size 640x480 with 1 Axes>"
      ]
     },
     "metadata": {},
     "output_type": "display_data"
    }
   ],
   "source": [
    "print(\"b x y c -> \", x.shape)\n",
    "plt.imshow(x[0,...], cmap=\"gray\");"
   ]
  },
  {
   "cell_type": "code",
   "execution_count": 13,
   "id": "a31b0442",
   "metadata": {},
   "outputs": [
    {
     "data": {
      "text/plain": [
       "DeviceArray([[ 0.49045837,  0.32804522,  0.3856396 , ..., -0.0478965 ,\n",
       "              -0.11704593,  0.01182345],\n",
       "             [ 0.07235594, -0.08874349,  0.14551952, ...,  0.2911517 ,\n",
       "               0.06611723,  0.01925142],\n",
       "             [-0.19301961,  0.05119936, -0.26339725, ...,  0.12291995,\n",
       "              -0.12575562,  0.22134064],\n",
       "             ...,\n",
       "             [ 0.16044085,  0.13906515,  0.08830648, ...,  0.01166629,\n",
       "              -0.05248075, -0.187418  ],\n",
       "             [ 0.3184937 , -0.09649571, -0.00215887, ..., -0.13396761,\n",
       "               0.04695809, -0.13647969],\n",
       "             [ 0.01672154, -0.15465826,  0.50306684, ..., -0.26757655,\n",
       "               0.08661724, -0.17403792]], dtype=float32)"
      ]
     },
     "execution_count": 13,
     "metadata": {},
     "output_type": "execute_result"
    }
   ],
   "source": [
    "model.apply(params, key, x, spiking=False)"
   ]
  },
  {
   "cell_type": "code",
   "execution_count": 19,
   "id": "244afbc7",
   "metadata": {},
   "outputs": [
    {
     "data": {
      "text/plain": [
       "(128, 28, 28, 1)"
      ]
     },
     "execution_count": 19,
     "metadata": {},
     "output_type": "execute_result"
    }
   ],
   "source": [
    "x.shape"
   ]
  },
  {
   "cell_type": "code",
   "execution_count": 14,
   "id": "387c30fd",
   "metadata": {},
   "outputs": [
    {
     "name": "stdout",
     "output_type": "stream",
     "text": [
      "Solving layer phasor_dense\n"
     ]
    },
    {
     "name": "stderr",
     "output_type": "stream",
     "text": [
      "100%|██████████| 1001/1001 [00:01<00:00, 620.75it/s]\n"
     ]
    },
    {
     "name": "stdout",
     "output_type": "stream",
     "text": [
      "Solving layer phasor_dense_1\n"
     ]
    },
    {
     "name": "stderr",
     "output_type": "stream",
     "text": [
      "100%|██████████| 1001/1001 [00:00<00:00, 6246.49it/s]\n"
     ]
    },
    {
     "data": {
      "text/plain": [
       "([array([   0,    0,    0, ..., 1279, 1279, 1279])],\n",
       " array([0.5 , 1.48, 2.42, ..., 7.7 , 8.71, 9.71]),\n",
       " (128, 10))"
      ]
     },
     "execution_count": 14,
     "metadata": {},
     "output_type": "execute_result"
    }
   ],
   "source": [
    "spks = model.apply(params, key, x, spiking=True)"
   ]
  },
  {
   "cell_type": "code",
   "execution_count": null,
   "id": "1dd1b484",
   "metadata": {},
   "outputs": [],
   "source": [
    "#TODO - tuple of spikes to namedtuple?"
   ]
  },
  {
   "cell_type": "code",
   "execution_count": 16,
   "id": "ea3e60f7",
   "metadata": {},
   "outputs": [
    {
     "data": {
      "text/plain": [
       "[array([   0,    0,    0, ..., 1279, 1279, 1279])]"
      ]
     },
     "execution_count": 16,
     "metadata": {},
     "output_type": "execute_result"
    }
   ],
   "source": [
    "spks[0]"
   ]
  },
  {
   "cell_type": "code",
   "execution_count": 18,
   "id": "0ae84b46",
   "metadata": {},
   "outputs": [
    {
     "data": {
      "text/plain": [
       "(128, 10)"
      ]
     },
     "execution_count": 18,
     "metadata": {},
     "output_type": "execute_result"
    }
   ],
   "source": [
    "spks[2]"
   ]
  },
  {
   "cell_type": "code",
   "execution_count": 17,
   "id": "72dd46d5",
   "metadata": {},
   "outputs": [
    {
     "data": {
      "text/plain": [
       "array([0.5 , 1.48, 2.42, ..., 7.7 , 8.71, 9.71])"
      ]
     },
     "execution_count": 17,
     "metadata": {},
     "output_type": "execute_result"
    }
   ],
   "source": [
    "spks[1]"
   ]
  },
  {
   "cell_type": "code",
   "execution_count": null,
   "id": "80ea02fa",
   "metadata": {},
   "outputs": [],
   "source": [
    "#TODO - decode and test"
   ]
  },
  {
   "cell_type": "code",
   "execution_count": null,
   "id": "aa3257ac",
   "metadata": {},
   "outputs": [
    {
     "data": {
      "text/plain": [
       "haiku._src.transform.Transformed"
      ]
     },
     "execution_count": 31,
     "metadata": {},
     "output_type": "execute_result"
    }
   ],
   "source": [
    "type(model)"
   ]
  },
  {
   "cell_type": "code",
   "execution_count": null,
   "id": "53fa742c",
   "metadata": {},
   "outputs": [],
   "source": [
    "model."
   ]
  },
  {
   "cell_type": "code",
   "execution_count": null,
   "id": "8697a45d",
   "metadata": {},
   "outputs": [
    {
     "name": "stdout",
     "output_type": "stream",
     "text": [
      "\u001b[0;31mSignature:\u001b[0m \u001b[0mmodel\u001b[0m\u001b[0;34m.\u001b[0m\u001b[0mindex\u001b[0m\u001b[0;34m(\u001b[0m\u001b[0mvalue\u001b[0m\u001b[0;34m,\u001b[0m \u001b[0mstart\u001b[0m\u001b[0;34m=\u001b[0m\u001b[0;36m0\u001b[0m\u001b[0;34m,\u001b[0m \u001b[0mstop\u001b[0m\u001b[0;34m=\u001b[0m\u001b[0;36m9223372036854775807\u001b[0m\u001b[0;34m,\u001b[0m \u001b[0;34m/\u001b[0m\u001b[0;34m)\u001b[0m\u001b[0;34m\u001b[0m\u001b[0;34m\u001b[0m\u001b[0m\n",
      "\u001b[0;31mDocstring:\u001b[0m\n",
      "Return first index of value.\n",
      "\n",
      "Raises ValueError if the value is not present.\n",
      "\u001b[0;31mType:\u001b[0m      builtin_function_or_method\n"
     ]
    }
   ],
   "source": [
    "?model.index"
   ]
  },
  {
   "cell_type": "code",
   "execution_count": null,
   "id": "5cec7867",
   "metadata": {},
   "outputs": [],
   "source": [
    "hk.Transformed"
   ]
  },
  {
   "cell_type": "code",
   "execution_count": null,
   "id": "dcc3bd09",
   "metadata": {},
   "outputs": [
    {
     "data": {
      "text/plain": [
       "dict_keys(['bz', 'w'])"
      ]
     },
     "execution_count": 27,
     "metadata": {},
     "output_type": "execute_result"
    }
   ],
   "source": [
    "params_t['phasor_dense'].keys()"
   ]
  },
  {
   "cell_type": "code",
   "execution_count": null,
   "id": "50e1dd6f",
   "metadata": {},
   "outputs": [
    {
     "data": {
      "text/plain": [
       "DeviceArray([0.97015387, 1.0279953 , 1.0111737 , 1.0650455 , 0.959732  ,\n",
       "             0.98500216, 1.0141755 , 1.0098482 , 0.9926995 , 1.0238945 ,\n",
       "             0.9916429 , 0.9819595 , 1.1982105 , 1.0171658 , 1.0124851 ,\n",
       "             1.0308654 , 1.057037  , 1.0787395 , 0.93215734, 0.995791  ,\n",
       "             1.0553246 , 1.0224646 , 1.030786  , 1.010359  , 1.0385854 ,\n",
       "             1.0088099 , 1.091956  , 1.1770277 , 1.0432597 , 1.0288429 ,\n",
       "             1.0488871 , 0.9767053 , 1.0286292 , 1.081243  , 0.96277773,\n",
       "             0.9776561 , 1.075314  , 1.0157082 , 1.022045  , 1.0108213 ,\n",
       "             1.0718731 , 1.0832895 , 0.968945  , 1.0169284 , 1.021121  ,\n",
       "             1.0311096 , 1.0298604 , 1.0456007 , 1.0328699 , 1.0787151 ,\n",
       "             0.99673575, 1.0481079 , 1.0406806 , 0.9566109 , 1.0538735 ,\n",
       "             0.98660976, 1.0604991 , 1.1560222 , 0.9546687 , 0.9917695 ,\n",
       "             1.0208112 , 1.0474983 , 0.9996649 , 0.9720679 , 1.0541772 ,\n",
       "             1.0218034 , 0.95868266, 0.957641  , 1.0587027 , 1.017046  ,\n",
       "             1.0299743 , 1.0276568 , 1.0155553 , 1.0249321 , 1.0011126 ,\n",
       "             1.00582   , 1.0253962 , 1.0479624 , 0.9476218 , 1.0728682 ,\n",
       "             1.0092149 , 1.0290158 , 1.0564872 , 1.1643538 , 1.1091349 ,\n",
       "             1.0512116 , 0.996003  , 1.0188428 , 1.072438  , 1.0084114 ,\n",
       "             0.9770594 , 0.9699167 , 1.0533968 , 1.0245304 , 0.98056966,\n",
       "             0.9629617 , 1.0176774 , 1.0782368 , 0.97494483, 0.9516775 ,\n",
       "             1.0574006 , 1.0039831 , 0.98917127, 0.99841523, 1.0424381 ,\n",
       "             1.1410242 , 1.0148228 , 0.96612275, 0.9704947 , 1.0623128 ,\n",
       "             1.0136142 , 1.0123469 , 1.0335339 , 0.97948587, 1.0600836 ,\n",
       "             1.0454437 , 1.0523199 , 1.0008962 , 1.0585163 , 1.0513576 ,\n",
       "             0.9960818 , 1.128804  , 1.0871154 , 1.0590054 , 1.0508194 ,\n",
       "             1.1431657 , 0.95270634, 1.0062935 ], dtype=float32)"
      ]
     },
     "execution_count": 28,
     "metadata": {},
     "output_type": "execute_result"
    }
   ],
   "source": [
    "params_t['phasor_dense']['bz']"
   ]
  },
  {
   "cell_type": "code",
   "execution_count": null,
   "id": "d658eaf6",
   "metadata": {},
   "outputs": [
    {
     "data": {
      "text/plain": [
       "DeviceArray([[ 0.06170554,  0.03170085, -0.02159647, ..., -0.03591197,\n",
       "               0.02377121,  0.01648746],\n",
       "             [ 0.0359842 , -0.01068914,  0.03900205, ..., -0.00108742,\n",
       "              -0.00376834,  0.01606862],\n",
       "             [-0.00776865, -0.01693812, -0.03747998, ...,  0.03230399,\n",
       "               0.01159014,  0.07565884],\n",
       "             ...,\n",
       "             [ 0.07284345,  0.05850352, -0.03309276, ..., -0.00242159,\n",
       "              -0.0339078 , -0.08026497],\n",
       "             [ 0.06360696, -0.0166297 , -0.0335381 , ..., -0.03412617,\n",
       "              -0.00265713,  0.03458536],\n",
       "             [-0.00765075, -0.0043629 , -0.06331107, ...,  0.00309099,\n",
       "               0.00628695,  0.0578362 ]], dtype=float32)"
      ]
     },
     "execution_count": 29,
     "metadata": {},
     "output_type": "execute_result"
    }
   ],
   "source": [
    "params_t['phasor_dense']['w']"
   ]
  },
  {
   "cell_type": "code",
   "execution_count": null,
   "id": "047fa42c",
   "metadata": {},
   "outputs": [],
   "source": []
  }
 ],
 "metadata": {
  "kernelspec": {
   "display_name": "Python 3 (ipykernel)",
   "language": "python",
   "name": "python3"
  },
  "language_info": {
   "codemirror_mode": {
    "name": "ipython",
    "version": 3
   },
   "file_extension": ".py",
   "mimetype": "text/x-python",
   "name": "python",
   "nbconvert_exporter": "python",
   "pygments_lexer": "ipython3",
   "version": "3.10.4"
  }
 },
 "nbformat": 4,
 "nbformat_minor": 5
}
