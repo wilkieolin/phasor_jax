{
 "cells": [
  {
   "cell_type": "code",
   "execution_count": 1,
   "id": "3a8aa7a5",
   "metadata": {},
   "outputs": [],
   "source": [
    "import haiku as hk\n",
    "import jax\n",
    "import jax.random as jrnd\n",
    "import jax.numpy as jnp\n",
    "\n",
    "import numpy as np\n",
    "import optax"
   ]
  },
  {
   "cell_type": "code",
   "execution_count": 2,
   "id": "1fd958bb",
   "metadata": {},
   "outputs": [],
   "source": [
    "from phasor_jax.modules import *\n",
    "from phasor_jax.utils import *\n",
    "from phasor_jax.training import *"
   ]
  },
  {
   "cell_type": "code",
   "execution_count": 3,
   "id": "be0e67c4",
   "metadata": {},
   "outputs": [],
   "source": [
    "import matplotlib.pyplot as plt"
   ]
  },
  {
   "cell_type": "markdown",
   "id": "ec4a6f5c",
   "metadata": {},
   "source": [
    "# Dataset"
   ]
  },
  {
   "cell_type": "code",
   "execution_count": 4,
   "id": "e942ed35",
   "metadata": {},
   "outputs": [],
   "source": [
    "#choose standard dataset here - e.g. MNIST, Fashion MNIST, Kuzushiji MNIST\n",
    "dataset = \"fashion_mnist\""
   ]
  },
  {
   "cell_type": "code",
   "execution_count": 5,
   "id": "c6de68e2",
   "metadata": {},
   "outputs": [
    {
     "name": "stdout",
     "output_type": "stream",
     "text": [
      "Metal device set to: Apple M1 Max\n",
      "\n",
      "systemMemory: 64.00 GB\n",
      "maxCacheSize: 24.00 GB\n",
      "\n"
     ]
    },
    {
     "name": "stderr",
     "output_type": "stream",
     "text": [
      "2023-03-20 16:00:13.742769: W tensorflow/tsl/platform/profile_utils/cpu_utils.cc:128] Failed to get CPU frequency: 0 Hz\n"
     ]
    }
   ],
   "source": [
    "#load the dataset\n",
    "n_batch = 128\n",
    "train_ds, x_train, y_train = load_dataset(dataset, split=\"train\", is_training=True, batch_size=n_batch)\n",
    "train = iter(train_ds)"
   ]
  },
  {
   "cell_type": "code",
   "execution_count": 6,
   "id": "70306c80",
   "metadata": {},
   "outputs": [
    {
     "data": {
      "text/plain": [
       "(60000, 28, 28, 1)"
      ]
     },
     "execution_count": 6,
     "metadata": {},
     "output_type": "execute_result"
    }
   ],
   "source": [
    "n_train = x_train.shape[0]\n",
    "x_train.shape"
   ]
  },
  {
   "cell_type": "markdown",
   "id": "49d7abba",
   "metadata": {},
   "source": [
    "# Model"
   ]
  },
  {
   "cell_type": "code",
   "execution_count": 7,
   "id": "04c77be2",
   "metadata": {},
   "outputs": [],
   "source": [
    "def mlp(x, \n",
    "           vsa_dimension: int = 1024,\n",
    "           spiking: bool = False,\n",
    "           **kwargs):\n",
    "    \n",
    "    x = scale_mnist(x)\n",
    "    #project into VSA\n",
    "    x = ProjectAll(vsa_dimension)(x)\n",
    "    x = layer_norm(x)\n",
    "\n",
    "    if spiking:\n",
    "        x = phase_to_train(x)\n",
    "    \n",
    "    x = conv_1d(128)(x, spiking=spiking)\n",
    "    x = conv_1d(10)(x,  spiking=spiking)\n",
    "     \n",
    "    return x"
   ]
  },
  {
   "cell_type": "code",
   "execution_count": 8,
   "id": "e9541242",
   "metadata": {},
   "outputs": [],
   "source": [
    "#declare the model as a transformation\n",
    "model = hk.transform(mlp)"
   ]
  },
  {
   "cell_type": "code",
   "execution_count": 9,
   "id": "ad92bd55",
   "metadata": {},
   "outputs": [],
   "source": [
    "#instantiate the first PRNG key\n",
    "key = jrnd.PRNGKey(42)"
   ]
  },
  {
   "cell_type": "code",
   "execution_count": 10,
   "id": "9baf8f46",
   "metadata": {},
   "outputs": [
    {
     "name": "stderr",
     "output_type": "stream",
     "text": [
      "/Users/wilkie/anaconda3/envs/jax/lib/python3.10/site-packages/haiku/_src/base.py:515: UserWarning: Explicitly requested dtype float requested in ones is not available, and will be truncated to dtype float32. To enable more dtypes, set the jax_enable_x64 configuration option or the JAX_ENABLE_X64 shell environment variable. See https://github.com/google/jax#current-gotchas for more.\n",
      "  param = init(shape, dtype)\n"
     ]
    }
   ],
   "source": [
    "#split the key and use it to create the model's initial parameters\n",
    "key, subkey = jrnd.split(key)\n",
    "params = model.init(subkey, x_train[0:10,...])"
   ]
  },
  {
   "cell_type": "code",
   "execution_count": 11,
   "id": "57087f36",
   "metadata": {},
   "outputs": [],
   "source": [
    "#get a sample batch from the train set\n",
    "b = next(train)\n",
    "x = b['image']\n",
    "y = b['label']"
   ]
  },
  {
   "cell_type": "code",
   "execution_count": 12,
   "id": "7369eb18",
   "metadata": {},
   "outputs": [
    {
     "name": "stdout",
     "output_type": "stream",
     "text": [
      "b x y c ->  (128, 28, 28, 1)\n"
     ]
    },
    {
     "data": {
      "image/png": "[encoded data removed]",
      "text/plain": [
       "<Figure size 640x480 with 1 Axes>"
      ]
     },
     "metadata": {},
     "output_type": "display_data"
    }
   ],
   "source": [
    "print(\"b x y c -> \", x.shape)\n",
    "plt.imshow(x[0,...], cmap=\"gray\");"
   ]
  },
  {
   "cell_type": "code",
   "execution_count": 13,
   "id": "a31b0442",
   "metadata": {},
   "outputs": [
    {
     "data": {
      "text/plain": [
       "DeviceArray([[ 0.49045837,  0.32804522,  0.3856396 , ..., -0.0478965 ,\n",
       "              -0.11704593,  0.01182345],\n",
       "             [ 0.07235594, -0.08874349,  0.14551952, ...,  0.2911517 ,\n",
       "               0.06611723,  0.01925142],\n",
       "             [-0.19301961,  0.05119936, -0.26339725, ...,  0.12291995,\n",
       "              -0.12575562,  0.22134064],\n",
       "             ...,\n",
       "             [ 0.16044085,  0.13906515,  0.08830648, ...,  0.01166629,\n",
       "              -0.05248075, -0.187418  ],\n",
       "             [ 0.3184937 , -0.09649571, -0.00215887, ..., -0.13396761,\n",
       "               0.04695809, -0.13647969],\n",
       "             [ 0.01672154, -0.15465826,  0.50306684, ..., -0.26757655,\n",
       "               0.08661724, -0.17403792]], dtype=float32)"
      ]
     },
     "execution_count": 13,
     "metadata": {},
     "output_type": "execute_result"
    }
   ],
   "source": [
    "model.apply(params, key, x, spiking=False)"
   ]
  },
  {
   "cell_type": "code",
   "execution_count": 14,
   "id": "387c30fd",
   "metadata": {},
   "outputs": [
    {
     "name": "stdout",
     "output_type": "stream",
     "text": [
      "Solving layer phasor_dense\n"
     ]
    },
    {
     "name": "stderr",
     "output_type": "stream",
     "text": [
      "100%|██████████| 1001/1001 [00:01<00:00, 562.94it/s]\n"
     ]
    },
    {
     "name": "stdout",
     "output_type": "stream",
     "text": [
      "Solving layer phasor_dense_1\n"
     ]
    },
    {
     "name": "stderr",
     "output_type": "stream",
     "text": [
      "100%|██████████| 1001/1001 [00:00<00:00, 3432.07it/s]\n"
     ]
    }
   ],
   "source": [
    "spks = model.apply(params, key, x, spiking=True)"
   ]
  },
  {
   "cell_type": "code",
   "execution_count": 15,
   "id": "e1222703",
   "metadata": {},
   "outputs": [
    {
     "data": {
      "text/plain": [
       "13127"
      ]
     },
     "execution_count": 15,
     "metadata": {},
     "output_type": "execute_result"
    }
   ],
   "source": [
    "len(*spks.indices)"
   ]
  },
  {
   "cell_type": "code",
   "execution_count": 16,
   "id": "60ebaa0e",
   "metadata": {},
   "outputs": [
    {
     "data": {
      "text/plain": [
       "13127"
      ]
     },
     "execution_count": 16,
     "metadata": {},
     "output_type": "execute_result"
    }
   ],
   "source": [
    "len(spks.times)"
   ]
  },
  {
   "cell_type": "code",
   "execution_count": 17,
   "id": "bc07ac4a",
   "metadata": {},
   "outputs": [
    {
     "data": {
      "text/plain": [
       "(128, 10)"
      ]
     },
     "execution_count": 17,
     "metadata": {},
     "output_type": "execute_result"
    }
   ],
   "source": [
    "spks.full_shape"
   ]
  },
  {
   "cell_type": "code",
   "execution_count": 18,
   "id": "73c44a0f",
   "metadata": {},
   "outputs": [
    {
     "data": {
      "text/plain": [
       "1280"
      ]
     },
     "execution_count": 18,
     "metadata": {},
     "output_type": "execute_result"
    }
   ],
   "source": [
    "np.prod(spks.full_shape)"
   ]
  },
  {
   "cell_type": "code",
   "execution_count": 19,
   "id": "7c1b3d0c",
   "metadata": {},
   "outputs": [],
   "source": [
    "p = train_to_phase(spks, offset=0.25)"
   ]
  },
  {
   "cell_type": "code",
   "execution_count": 20,
   "id": "b9cb163c",
   "metadata": {},
   "outputs": [
    {
     "data": {
      "text/plain": [
       "array([0.5 , 1.48, 2.42, ..., 7.7 , 8.71, 9.71])"
      ]
     },
     "execution_count": 20,
     "metadata": {},
     "output_type": "execute_result"
    }
   ],
   "source": [
    "spks.times"
   ]
  },
  {
   "cell_type": "code",
   "execution_count": 21,
   "id": "73c3493f",
   "metadata": {},
   "outputs": [
    {
     "data": {
      "text/plain": [
       "10.0"
      ]
     },
     "execution_count": 21,
     "metadata": {},
     "output_type": "execute_result"
    }
   ],
   "source": [
    "np.max(spks.times)"
   ]
  },
  {
   "cell_type": "code",
   "execution_count": 22,
   "id": "579a5612",
   "metadata": {},
   "outputs": [
    {
     "data": {
      "text/plain": [
       "10.0"
      ]
     },
     "execution_count": 22,
     "metadata": {},
     "output_type": "execute_result"
    }
   ],
   "source": [
    "np.ceil(spks.times[-1]) // 1.0"
   ]
  },
  {
   "cell_type": "code",
   "execution_count": 23,
   "id": "3d037766",
   "metadata": {},
   "outputs": [
    {
     "data": {
      "text/plain": [
       "13127"
      ]
     },
     "execution_count": 23,
     "metadata": {},
     "output_type": "execute_result"
    }
   ],
   "source": [
    "len(spks.times)"
   ]
  },
  {
   "cell_type": "code",
   "execution_count": 24,
   "id": "da4b8c61",
   "metadata": {},
   "outputs": [
    {
     "data": {
      "text/plain": [
       "(128, 10)"
      ]
     },
     "execution_count": 24,
     "metadata": {},
     "output_type": "execute_result"
    }
   ],
   "source": [
    "spks.full_shape"
   ]
  },
  {
   "cell_type": "code",
   "execution_count": null,
   "id": "bb5da3f2",
   "metadata": {},
   "outputs": [],
   "source": []
  },
  {
   "cell_type": "code",
   "execution_count": 25,
   "id": "424c5fb7",
   "metadata": {},
   "outputs": [],
   "source": [
    "def spiking_sparsity(x: SpikeTrain, period: float = 1.0):\n",
    "    end_time = np.max(x.times)\n",
    "    periods = np.ceil(end_time) // period\n",
    "    total_spikes = len(x.times)\n",
    "    total_neurons = np.prod(x.full_shape)\n",
    "\n",
    "    sparsity = total_spikes / (total_neurons * periods)\n",
    "    return sparsity"
   ]
  },
  {
   "cell_type": "code",
   "execution_count": 26,
   "id": "198889d3",
   "metadata": {},
   "outputs": [
    {
     "data": {
      "text/plain": [
       "1.025546875"
      ]
     },
     "execution_count": 26,
     "metadata": {},
     "output_type": "execute_result"
    }
   ],
   "source": [
    "spiking_sparsity(spks)"
   ]
  },
  {
   "cell_type": "code",
   "execution_count": 27,
   "id": "7f3fa4d5",
   "metadata": {},
   "outputs": [],
   "source": [
    "p = train_to_phase(spks, offset = 0.25)"
   ]
  },
  {
   "cell_type": "code",
   "execution_count": 28,
   "id": "cfad4c33",
   "metadata": {},
   "outputs": [
    {
     "data": {
      "text/plain": [
       "(128, 10, 11)"
      ]
     },
     "execution_count": 28,
     "metadata": {},
     "output_type": "execute_result"
    }
   ],
   "source": [
    "p.shape"
   ]
  },
  {
   "cell_type": "code",
   "execution_count": 33,
   "id": "ff64b66f",
   "metadata": {},
   "outputs": [],
   "source": [
    "acc = accuracy_quadrature(p, y)"
   ]
  },
  {
   "cell_type": "code",
   "execution_count": 34,
   "id": "8a1a51d7",
   "metadata": {},
   "outputs": [
    {
     "data": {
      "text/plain": [
       "(11, 128)"
      ]
     },
     "execution_count": 34,
     "metadata": {},
     "output_type": "execute_result"
    }
   ],
   "source": [
    "acc.shape"
   ]
  },
  {
   "cell_type": "code",
   "execution_count": 35,
   "id": "cdda8eb9",
   "metadata": {},
   "outputs": [
    {
     "data": {
      "text/plain": [
       "[<matplotlib.lines.Line2D at 0x2b3f673a0>]"
      ]
     },
     "execution_count": 35,
     "metadata": {},
     "output_type": "execute_result"
    },
    {
     "data": {
      "image/png": "[encoded data removed]",
      "text/plain": [
       "<Figure size 640x480 with 1 Axes>"
      ]
     },
     "metadata": {},
     "output_type": "display_data"
    }
   ],
   "source": [
    "plt.plot(np.mean(acc, axis=1))"
   ]
  },
  {
   "cell_type": "code",
   "execution_count": 63,
   "id": "a0072e0d",
   "metadata": {},
   "outputs": [
    {
     "data": {
      "text/plain": [
       "<matplotlib.colorbar.Colorbar at 0x2bc84b160>"
      ]
     },
     "execution_count": 63,
     "metadata": {},
     "output_type": "execute_result"
    },
    {
     "data": {
      "image/png": "[encoded data removed]",
      "text/plain": [
       "<Figure size 640x480 with 2 Axes>"
      ]
     },
     "metadata": {},
     "output_type": "display_data"
    }
   ],
   "source": [
    "plt.pcolor(p[:,:,-3])\n",
    "plt.colorbar()"
   ]
  },
  {
   "cell_type": "code",
   "execution_count": 64,
   "id": "3cb99c1b",
   "metadata": {},
   "outputs": [
    {
     "data": {
      "text/plain": [
       "(array([ 86.,  44.,  69., 101., 172., 253., 183., 133., 108., 131.]),\n",
       " array([-1.   , -0.802, -0.604, -0.406, -0.208, -0.01 ,  0.188,  0.386,\n",
       "         0.584,  0.782,  0.98 ]),\n",
       " <BarContainer object of 10 artists>)"
      ]
     },
     "execution_count": 64,
     "metadata": {},
     "output_type": "execute_result"
    },
    {
     "data": {
      "image/png": "[encoded data removed]",
      "text/plain": [
       "<Figure size 640x480 with 1 Axes>"
      ]
     },
     "metadata": {},
     "output_type": "display_data"
    }
   ],
   "source": [
    "plt.hist(p[:,:,-3].ravel())"
   ]
  },
  {
   "cell_type": "code",
   "execution_count": null,
   "id": "b973ba8e",
   "metadata": {},
   "outputs": [],
   "source": []
  }
 ],
 "metadata": {
  "kernelspec": {
   "display_name": "Python 3 (ipykernel)",
   "language": "python",
   "name": "python3"
  },
  "language_info": {
   "codemirror_mode": {
    "name": "ipython",
    "version": 3
   },
   "file_extension": ".py",
   "mimetype": "text/x-python",
   "name": "python",
   "nbconvert_exporter": "python",
   "pygments_lexer": "ipython3",
   "version": "3.10.4"
  }
 },
 "nbformat": 4,
 "nbformat_minor": 5
}
